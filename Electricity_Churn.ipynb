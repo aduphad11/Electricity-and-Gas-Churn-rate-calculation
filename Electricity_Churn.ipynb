{
 "cells": [
  {
   "cell_type": "code",
   "execution_count": 1,
   "metadata": {
    "colab": {
     "base_uri": "https://localhost:8080/",
     "height": 70
    },
    "colab_type": "code",
    "id": "_arhaBXTq3q6",
    "outputId": "03c2c321-a4b4-4f85-cd5c-9d353db8f618"
   },
   "outputs": [
    {
     "name": "stderr",
     "output_type": "stream",
     "text": [
      "/usr/local/lib/python3.6/dist-packages/statsmodels/tools/_testing.py:19: FutureWarning: pandas.util.testing is deprecated. Use the functions in the public API at pandas.testing instead.\n",
      "  import pandas.util.testing as tm\n"
     ]
    }
   ],
   "source": [
    "import numpy as np\n",
    "import matplotlib.pyplot as plt\n",
    "import pandas as pd\n",
    "import math\n",
    "from sklearn.impute import SimpleImputer\n",
    "from sklearn.preprocessing import LabelEncoder\n",
    "from sklearn.preprocessing import MinMaxScaler\n",
    "from statsmodels.tsa.arima_model import ARIMA\n",
    "from sklearn.metrics import mean_absolute_error\n",
    "import tensorflow as tf\n",
    "from keras.models import Sequential\n",
    "from keras.layers import Dense, Dropout\n",
    "from keras.layers import LSTM\n",
    "import datetime as dt"
   ]
  },
  {
   "cell_type": "markdown",
   "metadata": {
    "colab_type": "text",
    "id": "NKUu2L2Jp3N-"
   },
   "source": [
    "# **Data Import**"
   ]
  },
  {
   "cell_type": "markdown",
   "metadata": {
    "colab_type": "text",
    "id": "w4ny6h4DqBhS"
   },
   "source": [
    "**Coteq**"
   ]
  },
  {
   "cell_type": "code",
   "execution_count": 2,
   "metadata": {
    "colab": {
     "base_uri": "https://localhost:8080/",
     "height": 758
    },
    "colab_type": "code",
    "id": "PUUOuGv-o8x2",
    "outputId": "32185058-bd8d-493e-f9c1-8d5c6530d9ee"
   },
   "outputs": [
    {
     "data": {
      "text/html": [
       "<div>\n",
       "<style scoped>\n",
       "    .dataframe tbody tr th:only-of-type {\n",
       "        vertical-align: middle;\n",
       "    }\n",
       "\n",
       "    .dataframe tbody tr th {\n",
       "        vertical-align: top;\n",
       "    }\n",
       "\n",
       "    .dataframe thead th {\n",
       "        text-align: right;\n",
       "    }\n",
       "</style>\n",
       "<table border=\"1\" class=\"dataframe\">\n",
       "  <thead>\n",
       "    <tr style=\"text-align: right;\">\n",
       "      <th></th>\n",
       "      <th>net_manager</th>\n",
       "      <th>purchase_area</th>\n",
       "      <th>street</th>\n",
       "      <th>zipcode_from</th>\n",
       "      <th>zipcode_to</th>\n",
       "      <th>city</th>\n",
       "      <th>num_connections</th>\n",
       "      <th>delivery_perc</th>\n",
       "      <th>perc_of_active_connections</th>\n",
       "      <th>type_conn_perc</th>\n",
       "      <th>type_of_connection</th>\n",
       "      <th>annual_consume</th>\n",
       "      <th>annual_consume_lowtarif_perc</th>\n",
       "      <th>smartmeter_perc</th>\n",
       "      <th>Year</th>\n",
       "    </tr>\n",
       "  </thead>\n",
       "  <tbody>\n",
       "    <tr>\n",
       "      <th>0</th>\n",
       "      <td>Coteq Netbeheer BV</td>\n",
       "      <td>Netbeheerder Centraal Overijssel B.V.</td>\n",
       "      <td>Dorpsstraat</td>\n",
       "      <td>7468CP</td>\n",
       "      <td>7471AA</td>\n",
       "      <td>ENTER</td>\n",
       "      <td>19</td>\n",
       "      <td>89.47</td>\n",
       "      <td>94.74</td>\n",
       "      <td>89</td>\n",
       "      <td>1x35</td>\n",
       "      <td>4122</td>\n",
       "      <td>89.47</td>\n",
       "      <td>0.0</td>\n",
       "      <td>2015</td>\n",
       "    </tr>\n",
       "    <tr>\n",
       "      <th>1</th>\n",
       "      <td>Coteq Netbeheer BV</td>\n",
       "      <td>Netbeheerder Centraal Overijssel B.V.</td>\n",
       "      <td>De Stoevelaar</td>\n",
       "      <td>7471AB</td>\n",
       "      <td>7471AB</td>\n",
       "      <td>GOOR</td>\n",
       "      <td>37</td>\n",
       "      <td>100.00</td>\n",
       "      <td>100.00</td>\n",
       "      <td>86</td>\n",
       "      <td>1x35</td>\n",
       "      <td>1800</td>\n",
       "      <td>94.59</td>\n",
       "      <td>0.0</td>\n",
       "      <td>2015</td>\n",
       "    </tr>\n",
       "    <tr>\n",
       "      <th>2</th>\n",
       "      <td>Coteq Netbeheer BV</td>\n",
       "      <td>Netbeheerder Centraal Overijssel B.V.</td>\n",
       "      <td>De Stoevelaar</td>\n",
       "      <td>7471AC</td>\n",
       "      <td>7471AC</td>\n",
       "      <td>GOOR</td>\n",
       "      <td>16</td>\n",
       "      <td>100.00</td>\n",
       "      <td>100.00</td>\n",
       "      <td>100</td>\n",
       "      <td>1x35</td>\n",
       "      <td>1315</td>\n",
       "      <td>100.00</td>\n",
       "      <td>0.0</td>\n",
       "      <td>2015</td>\n",
       "    </tr>\n",
       "    <tr>\n",
       "      <th>3</th>\n",
       "      <td>Coteq Netbeheer BV</td>\n",
       "      <td>Netbeheerder Centraal Overijssel B.V.</td>\n",
       "      <td>De Stoevelaar</td>\n",
       "      <td>7471AD</td>\n",
       "      <td>7471AE</td>\n",
       "      <td>GOOR</td>\n",
       "      <td>25</td>\n",
       "      <td>92.00</td>\n",
       "      <td>84.00</td>\n",
       "      <td>44</td>\n",
       "      <td>1x35</td>\n",
       "      <td>6379</td>\n",
       "      <td>92.00</td>\n",
       "      <td>0.0</td>\n",
       "      <td>2015</td>\n",
       "    </tr>\n",
       "    <tr>\n",
       "      <th>4</th>\n",
       "      <td>Coteq Netbeheer BV</td>\n",
       "      <td>Netbeheerder Centraal Overijssel B.V.</td>\n",
       "      <td>Kerkstraat</td>\n",
       "      <td>7471AG</td>\n",
       "      <td>7471AG</td>\n",
       "      <td>GOOR</td>\n",
       "      <td>14</td>\n",
       "      <td>85.71</td>\n",
       "      <td>100.00</td>\n",
       "      <td>36</td>\n",
       "      <td>1x35</td>\n",
       "      <td>4404</td>\n",
       "      <td>92.86</td>\n",
       "      <td>0.0</td>\n",
       "      <td>2015</td>\n",
       "    </tr>\n",
       "    <tr>\n",
       "      <th>...</th>\n",
       "      <td>...</td>\n",
       "      <td>...</td>\n",
       "      <td>...</td>\n",
       "      <td>...</td>\n",
       "      <td>...</td>\n",
       "      <td>...</td>\n",
       "      <td>...</td>\n",
       "      <td>...</td>\n",
       "      <td>...</td>\n",
       "      <td>...</td>\n",
       "      <td>...</td>\n",
       "      <td>...</td>\n",
       "      <td>...</td>\n",
       "      <td>...</td>\n",
       "      <td>...</td>\n",
       "    </tr>\n",
       "    <tr>\n",
       "      <th>2498</th>\n",
       "      <td>Coteq Netbeheer BV</td>\n",
       "      <td>Netbeheerder Centraal Overijssel B.V.</td>\n",
       "      <td>Sterrebos</td>\n",
       "      <td>7609ZP</td>\n",
       "      <td>7609ZP</td>\n",
       "      <td>ALMELO</td>\n",
       "      <td>27</td>\n",
       "      <td>14.81</td>\n",
       "      <td>100.00</td>\n",
       "      <td>96</td>\n",
       "      <td>1x35</td>\n",
       "      <td>2619</td>\n",
       "      <td>100.00</td>\n",
       "      <td>0.0</td>\n",
       "      <td>2014</td>\n",
       "    </tr>\n",
       "    <tr>\n",
       "      <th>2499</th>\n",
       "      <td>Coteq Netbeheer BV</td>\n",
       "      <td>Netbeheerder Centraal Overijssel B.V.</td>\n",
       "      <td>Loofgang</td>\n",
       "      <td>7609ZR</td>\n",
       "      <td>7609ZR</td>\n",
       "      <td>ALMELO</td>\n",
       "      <td>28</td>\n",
       "      <td>71.43</td>\n",
       "      <td>100.00</td>\n",
       "      <td>89</td>\n",
       "      <td>1x35</td>\n",
       "      <td>3846</td>\n",
       "      <td>100.00</td>\n",
       "      <td>0.0</td>\n",
       "      <td>2014</td>\n",
       "    </tr>\n",
       "    <tr>\n",
       "      <th>2500</th>\n",
       "      <td>Coteq Netbeheer BV</td>\n",
       "      <td>Netbeheerder Centraal Overijssel B.V.</td>\n",
       "      <td>Vista</td>\n",
       "      <td>7609ZS</td>\n",
       "      <td>7609ZS</td>\n",
       "      <td>ALMELO</td>\n",
       "      <td>25</td>\n",
       "      <td>60.00</td>\n",
       "      <td>100.00</td>\n",
       "      <td>76</td>\n",
       "      <td>1x35</td>\n",
       "      <td>5312</td>\n",
       "      <td>96.00</td>\n",
       "      <td>0.0</td>\n",
       "      <td>2014</td>\n",
       "    </tr>\n",
       "    <tr>\n",
       "      <th>2501</th>\n",
       "      <td>Coteq Netbeheer BV</td>\n",
       "      <td>Netbeheerder Centraal Overijssel B.V.</td>\n",
       "      <td>Tuinvaas</td>\n",
       "      <td>7609ZT</td>\n",
       "      <td>7609ZT</td>\n",
       "      <td>ALMELO</td>\n",
       "      <td>18</td>\n",
       "      <td>77.78</td>\n",
       "      <td>100.00</td>\n",
       "      <td>94</td>\n",
       "      <td>1x35</td>\n",
       "      <td>4111</td>\n",
       "      <td>100.00</td>\n",
       "      <td>0.0</td>\n",
       "      <td>2014</td>\n",
       "    </tr>\n",
       "    <tr>\n",
       "      <th>2502</th>\n",
       "      <td>Coteq Netbeheer BV</td>\n",
       "      <td>Netbeheerder Centraal Overijssel B.V.</td>\n",
       "      <td>Wintertuin</td>\n",
       "      <td>7609ZV</td>\n",
       "      <td>7609ZW</td>\n",
       "      <td>ALMELO</td>\n",
       "      <td>45</td>\n",
       "      <td>77.78</td>\n",
       "      <td>100.00</td>\n",
       "      <td>98</td>\n",
       "      <td>1x35</td>\n",
       "      <td>3858</td>\n",
       "      <td>100.00</td>\n",
       "      <td>0.0</td>\n",
       "      <td>2014</td>\n",
       "    </tr>\n",
       "  </tbody>\n",
       "</table>\n",
       "<p>15078 rows × 15 columns</p>\n",
       "</div>"
      ],
      "text/plain": [
       "             net_manager  ...  Year\n",
       "0     Coteq Netbeheer BV  ...  2015\n",
       "1     Coteq Netbeheer BV  ...  2015\n",
       "2     Coteq Netbeheer BV  ...  2015\n",
       "3     Coteq Netbeheer BV  ...  2015\n",
       "4     Coteq Netbeheer BV  ...  2015\n",
       "...                  ...  ...   ...\n",
       "2498  Coteq Netbeheer BV  ...  2014\n",
       "2499  Coteq Netbeheer BV  ...  2014\n",
       "2500  Coteq Netbeheer BV  ...  2014\n",
       "2501  Coteq Netbeheer BV  ...  2014\n",
       "2502  Coteq Netbeheer BV  ...  2014\n",
       "\n",
       "[15078 rows x 15 columns]"
      ]
     },
     "execution_count": 2,
     "metadata": {
      "tags": []
     },
     "output_type": "execute_result"
    }
   ],
   "source": [
    "data0= pd.read_csv('/content/drive/My Drive/Electricity/coteq_electricity_2015.csv')\n",
    "data0['Year'] = '2015'\n",
    "data1= pd.read_csv('/content/drive/My Drive/Electricity/coteq_electricity_2016.csv')\n",
    "data1['Year'] = '2016'\n",
    "data2= pd.read_csv('/content/drive/My Drive/Electricity/coteq_electricity_2017.csv')\n",
    "data2['Year'] = '2017'\n",
    "data3= pd.read_csv('/content/drive/My Drive/Electricity/coteq_electricity_2018.csv')\n",
    "data3['Year'] = '2018'\n",
    "data4= pd.read_csv('/content/drive/My Drive/Electricity/coteq_electricity_2019.csv')\n",
    "data4['Year'] = '2019'\n",
    "data5= pd.read_csv('/content/drive/My Drive/Electricity/coteq_electricity_2014.csv')\n",
    "data5['Year'] = '2014'\n",
    "listd= [data0,data1,data2,data3,data4,data5]\n",
    "coteq= pd.concat (listd, axis=0, sort=False)\n",
    "del [data0,data1,data2,data3,data4,data5]\n",
    "coteq"
   ]
  },
  {
   "cell_type": "markdown",
   "metadata": {
    "colab_type": "text",
    "id": "zwC_LYWNp9HT"
   },
   "source": [
    "**Rendo**"
   ]
  },
  {
   "cell_type": "code",
   "execution_count": 3,
   "metadata": {
    "colab": {
     "base_uri": "https://localhost:8080/",
     "height": 455
    },
    "colab_type": "code",
    "id": "pHGHmz89xey1",
    "outputId": "c7eb29bb-69a9-495b-8d43-a0252abf171e"
   },
   "outputs": [
    {
     "data": {
      "text/html": [
       "<div>\n",
       "<style scoped>\n",
       "    .dataframe tbody tr th:only-of-type {\n",
       "        vertical-align: middle;\n",
       "    }\n",
       "\n",
       "    .dataframe tbody tr th {\n",
       "        vertical-align: top;\n",
       "    }\n",
       "\n",
       "    .dataframe thead th {\n",
       "        text-align: right;\n",
       "    }\n",
       "</style>\n",
       "<table border=\"1\" class=\"dataframe\">\n",
       "  <thead>\n",
       "    <tr style=\"text-align: right;\">\n",
       "      <th></th>\n",
       "      <th>net_manager</th>\n",
       "      <th>purchase_area</th>\n",
       "      <th>street</th>\n",
       "      <th>zipcode_from</th>\n",
       "      <th>zipcode_to</th>\n",
       "      <th>city</th>\n",
       "      <th>num_connections</th>\n",
       "      <th>delivery_perc</th>\n",
       "      <th>perc_of_active_connections</th>\n",
       "      <th>type_conn_perc</th>\n",
       "      <th>type_of_connection</th>\n",
       "      <th>annual_consume</th>\n",
       "      <th>Year</th>\n",
       "    </tr>\n",
       "  </thead>\n",
       "  <tbody>\n",
       "    <tr>\n",
       "      <th>0</th>\n",
       "      <td>8716912000008</td>\n",
       "      <td>871691280000000008</td>\n",
       "      <td>Stationsplein</td>\n",
       "      <td>7901AA</td>\n",
       "      <td>7901AA</td>\n",
       "      <td>HOOGEVEEN</td>\n",
       "      <td>41.0</td>\n",
       "      <td>100.00</td>\n",
       "      <td>100.0</td>\n",
       "      <td>73.0</td>\n",
       "      <td>1x40</td>\n",
       "      <td>3663</td>\n",
       "      <td>2015</td>\n",
       "    </tr>\n",
       "    <tr>\n",
       "      <th>1</th>\n",
       "      <td>8716912000008</td>\n",
       "      <td>871691280000000008</td>\n",
       "      <td>Stationsstraat</td>\n",
       "      <td>7901AB</td>\n",
       "      <td>7901AB</td>\n",
       "      <td>HOOGEVEEN</td>\n",
       "      <td>16.0</td>\n",
       "      <td>87.50</td>\n",
       "      <td>100.0</td>\n",
       "      <td>63.0</td>\n",
       "      <td>3x25</td>\n",
       "      <td>7004</td>\n",
       "      <td>2015</td>\n",
       "    </tr>\n",
       "    <tr>\n",
       "      <th>2</th>\n",
       "      <td>8716912000008</td>\n",
       "      <td>871691280000000008</td>\n",
       "      <td>Crerarstraat</td>\n",
       "      <td>7901AC</td>\n",
       "      <td>7901AC</td>\n",
       "      <td>HOOGEVEEN</td>\n",
       "      <td>17.0</td>\n",
       "      <td>100.00</td>\n",
       "      <td>100.0</td>\n",
       "      <td>94.0</td>\n",
       "      <td>1x25</td>\n",
       "      <td>2586</td>\n",
       "      <td>2015</td>\n",
       "    </tr>\n",
       "    <tr>\n",
       "      <th>3</th>\n",
       "      <td>8716912000008</td>\n",
       "      <td>871691280000000008</td>\n",
       "      <td>Crerarstraat</td>\n",
       "      <td>7901AD</td>\n",
       "      <td>7901AD</td>\n",
       "      <td>HOOGEVEEN</td>\n",
       "      <td>18.0</td>\n",
       "      <td>100.00</td>\n",
       "      <td>100.0</td>\n",
       "      <td>72.0</td>\n",
       "      <td>1x25</td>\n",
       "      <td>3177</td>\n",
       "      <td>2015</td>\n",
       "    </tr>\n",
       "    <tr>\n",
       "      <th>4</th>\n",
       "      <td>8716912000008</td>\n",
       "      <td>871691280000000008</td>\n",
       "      <td>Crerarstraat</td>\n",
       "      <td>7901AE</td>\n",
       "      <td>7901AG</td>\n",
       "      <td>HOOGEVEEN</td>\n",
       "      <td>19.0</td>\n",
       "      <td>94.74</td>\n",
       "      <td>100.0</td>\n",
       "      <td>89.0</td>\n",
       "      <td>3x25</td>\n",
       "      <td>5183</td>\n",
       "      <td>2015</td>\n",
       "    </tr>\n",
       "    <tr>\n",
       "      <th>...</th>\n",
       "      <td>...</td>\n",
       "      <td>...</td>\n",
       "      <td>...</td>\n",
       "      <td>...</td>\n",
       "      <td>...</td>\n",
       "      <td>...</td>\n",
       "      <td>...</td>\n",
       "      <td>...</td>\n",
       "      <td>...</td>\n",
       "      <td>...</td>\n",
       "      <td>...</td>\n",
       "      <td>...</td>\n",
       "      <td>...</td>\n",
       "    </tr>\n",
       "    <tr>\n",
       "      <th>1462</th>\n",
       "      <td>8716912000008</td>\n",
       "      <td>871691280000000008</td>\n",
       "      <td>Burg G W Stroinkweg</td>\n",
       "      <td>8343XL</td>\n",
       "      <td>8343XL</td>\n",
       "      <td>ZUIDVEEN</td>\n",
       "      <td>20.0</td>\n",
       "      <td>90.00</td>\n",
       "      <td>100.0</td>\n",
       "      <td>40.0</td>\n",
       "      <td>1x25</td>\n",
       "      <td>9414</td>\n",
       "      <td>2014</td>\n",
       "    </tr>\n",
       "    <tr>\n",
       "      <th>1463</th>\n",
       "      <td>8716912000008</td>\n",
       "      <td>871691280000000008</td>\n",
       "      <td>Burg G W Stroinkweg</td>\n",
       "      <td>8343XM</td>\n",
       "      <td>8343XM</td>\n",
       "      <td>ZUIDVEEN</td>\n",
       "      <td>20.0</td>\n",
       "      <td>100.00</td>\n",
       "      <td>100.0</td>\n",
       "      <td>55.0</td>\n",
       "      <td>3x25</td>\n",
       "      <td>5398</td>\n",
       "      <td>2014</td>\n",
       "    </tr>\n",
       "    <tr>\n",
       "      <th>1464</th>\n",
       "      <td>8716912000008</td>\n",
       "      <td>871691280000000008</td>\n",
       "      <td>Leemkoele</td>\n",
       "      <td>8343XN</td>\n",
       "      <td>8343XN</td>\n",
       "      <td>ZUIDVEEN</td>\n",
       "      <td>18.0</td>\n",
       "      <td>94.44</td>\n",
       "      <td>100.0</td>\n",
       "      <td>56.0</td>\n",
       "      <td>1x40</td>\n",
       "      <td>2977</td>\n",
       "      <td>2014</td>\n",
       "    </tr>\n",
       "    <tr>\n",
       "      <th>1465</th>\n",
       "      <td>8716912000008</td>\n",
       "      <td>871691280000000008</td>\n",
       "      <td>De Klim</td>\n",
       "      <td>8343XP</td>\n",
       "      <td>8343XR</td>\n",
       "      <td>ZUIDVEEN</td>\n",
       "      <td>34.0</td>\n",
       "      <td>94.12</td>\n",
       "      <td>100.0</td>\n",
       "      <td>47.0</td>\n",
       "      <td>1x40</td>\n",
       "      <td>4907</td>\n",
       "      <td>2014</td>\n",
       "    </tr>\n",
       "    <tr>\n",
       "      <th>1466</th>\n",
       "      <td>8716912000008</td>\n",
       "      <td>871691280000000008</td>\n",
       "      <td>Meppelerweg</td>\n",
       "      <td>8344XX</td>\n",
       "      <td>8345HA</td>\n",
       "      <td>ONNA</td>\n",
       "      <td>NaN</td>\n",
       "      <td>100.00</td>\n",
       "      <td>100.0</td>\n",
       "      <td>NaN</td>\n",
       "      <td>NaN</td>\n",
       "      <td>2229</td>\n",
       "      <td>2014</td>\n",
       "    </tr>\n",
       "  </tbody>\n",
       "</table>\n",
       "<p>8836 rows × 13 columns</p>\n",
       "</div>"
      ],
      "text/plain": [
       "        net_manager       purchase_area  ... annual_consume  Year\n",
       "0     8716912000008  871691280000000008  ...           3663  2015\n",
       "1     8716912000008  871691280000000008  ...           7004  2015\n",
       "2     8716912000008  871691280000000008  ...           2586  2015\n",
       "3     8716912000008  871691280000000008  ...           3177  2015\n",
       "4     8716912000008  871691280000000008  ...           5183  2015\n",
       "...             ...                 ...  ...            ...   ...\n",
       "1462  8716912000008  871691280000000008  ...           9414  2014\n",
       "1463  8716912000008  871691280000000008  ...           5398  2014\n",
       "1464  8716912000008  871691280000000008  ...           2977  2014\n",
       "1465  8716912000008  871691280000000008  ...           4907  2014\n",
       "1466  8716912000008  871691280000000008  ...           2229  2014\n",
       "\n",
       "[8836 rows x 13 columns]"
      ]
     },
     "execution_count": 3,
     "metadata": {
      "tags": []
     },
     "output_type": "execute_result"
    }
   ],
   "source": [
    "data0= pd.read_csv('/content/drive/My Drive/Electricity/rendo_electricity_2015.csv')\n",
    "data0['Year'] = '2015'\n",
    "data1= pd.read_csv('/content/drive/My Drive/Electricity/rendo_electricity_2016.csv')\n",
    "data1['Year'] = '2016'\n",
    "data2= pd.read_csv('/content/drive/My Drive/Electricity/rendo_electricity_2017.csv')\n",
    "data2['Year'] = '2017'\n",
    "data3= pd.read_csv('/content/drive/My Drive/Electricity/rendo_electricity_2017.csv')\n",
    "data3['Year'] = '2018'\n",
    "data4= pd.read_csv('/content/drive/My Drive/Electricity/rendo_electricity_2019.csv')\n",
    "data4['Year'] = '2019'\n",
    "data5= pd.read_csv('/content/drive/My Drive/Electricity/rendo_electricity_2014.csv')\n",
    "data5['Year'] = '2014'\n",
    "listd= [data0,data1,data2,data3,data4,data5]\n",
    "rendo= pd.concat (listd, axis=0, sort=False)\n",
    "del [data0,data1,data2,data3,data4,data5]\n",
    "rendo"
   ]
  },
  {
   "cell_type": "markdown",
   "metadata": {
    "colab_type": "text",
    "id": "7cNzDaGcqGGi"
   },
   "source": [
    "**Westland-infra**"
   ]
  },
  {
   "cell_type": "code",
   "execution_count": 4,
   "metadata": {
    "colab": {
     "base_uri": "https://localhost:8080/",
     "height": 606
    },
    "colab_type": "code",
    "id": "bLQZnBV6qanz",
    "outputId": "2a2a7021-66f8-4162-aaf2-085e1652a2c3"
   },
   "outputs": [
    {
     "data": {
      "text/html": [
       "<div>\n",
       "<style scoped>\n",
       "    .dataframe tbody tr th:only-of-type {\n",
       "        vertical-align: middle;\n",
       "    }\n",
       "\n",
       "    .dataframe tbody tr th {\n",
       "        vertical-align: top;\n",
       "    }\n",
       "\n",
       "    .dataframe thead th {\n",
       "        text-align: right;\n",
       "    }\n",
       "</style>\n",
       "<table border=\"1\" class=\"dataframe\">\n",
       "  <thead>\n",
       "    <tr style=\"text-align: right;\">\n",
       "      <th></th>\n",
       "      <th>net_manager</th>\n",
       "      <th>purchase_area</th>\n",
       "      <th>street</th>\n",
       "      <th>zipcode_from</th>\n",
       "      <th>zipcode_to</th>\n",
       "      <th>city</th>\n",
       "      <th>num_connections</th>\n",
       "      <th>delivery_perc</th>\n",
       "      <th>perc_of_active_connections</th>\n",
       "      <th>%Defintieve aansl (NRM)</th>\n",
       "      <th>type_conn_perc</th>\n",
       "      <th>type_of_connection</th>\n",
       "      <th>annual_consume</th>\n",
       "      <th>annual_consume_lowtarif_perc</th>\n",
       "      <th>smartmeter_perc</th>\n",
       "      <th>Year</th>\n",
       "    </tr>\n",
       "  </thead>\n",
       "  <tbody>\n",
       "    <tr>\n",
       "      <th>0</th>\n",
       "      <td>westland-infra</td>\n",
       "      <td>871687800090000015</td>\n",
       "      <td>OOSTEINDE</td>\n",
       "      <td>2291AA</td>\n",
       "      <td>2291AE</td>\n",
       "      <td>WATERINGEN</td>\n",
       "      <td>29</td>\n",
       "      <td>96.55</td>\n",
       "      <td>100.0</td>\n",
       "      <td>100</td>\n",
       "      <td>83</td>\n",
       "      <td>3x25</td>\n",
       "      <td>9908</td>\n",
       "      <td>89.66</td>\n",
       "      <td>17.24</td>\n",
       "      <td>2015</td>\n",
       "    </tr>\n",
       "    <tr>\n",
       "      <th>1</th>\n",
       "      <td>westland-infra</td>\n",
       "      <td>871687800090000015</td>\n",
       "      <td>WATERPARK</td>\n",
       "      <td>2291AK</td>\n",
       "      <td>2291AK</td>\n",
       "      <td>WATERINGEN</td>\n",
       "      <td>39</td>\n",
       "      <td>92.31</td>\n",
       "      <td>100.0</td>\n",
       "      <td>100</td>\n",
       "      <td>64</td>\n",
       "      <td>1x35</td>\n",
       "      <td>5210</td>\n",
       "      <td>100.00</td>\n",
       "      <td>7.69</td>\n",
       "      <td>2015</td>\n",
       "    </tr>\n",
       "    <tr>\n",
       "      <th>2</th>\n",
       "      <td>westland-infra</td>\n",
       "      <td>871687800090000015</td>\n",
       "      <td>AZALEAPARK</td>\n",
       "      <td>2291AL</td>\n",
       "      <td>2291AL</td>\n",
       "      <td>WATERINGEN</td>\n",
       "      <td>29</td>\n",
       "      <td>100.00</td>\n",
       "      <td>100.0</td>\n",
       "      <td>100</td>\n",
       "      <td>86</td>\n",
       "      <td>1x35</td>\n",
       "      <td>3354</td>\n",
       "      <td>100.00</td>\n",
       "      <td>0.00</td>\n",
       "      <td>2015</td>\n",
       "    </tr>\n",
       "    <tr>\n",
       "      <th>3</th>\n",
       "      <td>westland-infra</td>\n",
       "      <td>871687800090000015</td>\n",
       "      <td>DRUIVENLAAN</td>\n",
       "      <td>2291AN</td>\n",
       "      <td>2291AT</td>\n",
       "      <td>WATERINGEN</td>\n",
       "      <td>24</td>\n",
       "      <td>100.00</td>\n",
       "      <td>100.0</td>\n",
       "      <td>100</td>\n",
       "      <td>92</td>\n",
       "      <td>3x25</td>\n",
       "      <td>6031</td>\n",
       "      <td>100.00</td>\n",
       "      <td>4.17</td>\n",
       "      <td>2015</td>\n",
       "    </tr>\n",
       "    <tr>\n",
       "      <th>4</th>\n",
       "      <td>westland-infra</td>\n",
       "      <td>871687800090000015</td>\n",
       "      <td>KWAKLAAN</td>\n",
       "      <td>2291AV</td>\n",
       "      <td>2291AV</td>\n",
       "      <td>WATERINGEN</td>\n",
       "      <td>16</td>\n",
       "      <td>100.00</td>\n",
       "      <td>100.0</td>\n",
       "      <td>100</td>\n",
       "      <td>88</td>\n",
       "      <td>3x25</td>\n",
       "      <td>2832</td>\n",
       "      <td>100.00</td>\n",
       "      <td>6.25</td>\n",
       "      <td>2015</td>\n",
       "    </tr>\n",
       "    <tr>\n",
       "      <th>...</th>\n",
       "      <td>...</td>\n",
       "      <td>...</td>\n",
       "      <td>...</td>\n",
       "      <td>...</td>\n",
       "      <td>...</td>\n",
       "      <td>...</td>\n",
       "      <td>...</td>\n",
       "      <td>...</td>\n",
       "      <td>...</td>\n",
       "      <td>...</td>\n",
       "      <td>...</td>\n",
       "      <td>...</td>\n",
       "      <td>...</td>\n",
       "      <td>...</td>\n",
       "      <td>...</td>\n",
       "      <td>...</td>\n",
       "    </tr>\n",
       "    <tr>\n",
       "      <th>2417</th>\n",
       "      <td>westland-infra</td>\n",
       "      <td>871687800090000015</td>\n",
       "      <td>IN DE BALIJE</td>\n",
       "      <td>3155XA</td>\n",
       "      <td>3155XA</td>\n",
       "      <td>MAASLAND</td>\n",
       "      <td>14</td>\n",
       "      <td>100.00</td>\n",
       "      <td>100.0</td>\n",
       "      <td>100</td>\n",
       "      <td>100</td>\n",
       "      <td>3x25</td>\n",
       "      <td>6081</td>\n",
       "      <td>100.00</td>\n",
       "      <td>0.00</td>\n",
       "      <td>2014</td>\n",
       "    </tr>\n",
       "    <tr>\n",
       "      <th>2418</th>\n",
       "      <td>westland-infra</td>\n",
       "      <td>871687800090000015</td>\n",
       "      <td>KONINGIN JULIANAWEG</td>\n",
       "      <td>3155XB</td>\n",
       "      <td>3155XB</td>\n",
       "      <td>MAASLAND</td>\n",
       "      <td>14</td>\n",
       "      <td>100.00</td>\n",
       "      <td>100.0</td>\n",
       "      <td>100</td>\n",
       "      <td>86</td>\n",
       "      <td>3x25</td>\n",
       "      <td>5803</td>\n",
       "      <td>92.86</td>\n",
       "      <td>0.00</td>\n",
       "      <td>2014</td>\n",
       "    </tr>\n",
       "    <tr>\n",
       "      <th>2419</th>\n",
       "      <td>westland-infra</td>\n",
       "      <td>871687800090000015</td>\n",
       "      <td>KONINGIN JULIANAWEG</td>\n",
       "      <td>3155XC</td>\n",
       "      <td>3155XD</td>\n",
       "      <td>MAASLAND</td>\n",
       "      <td>28</td>\n",
       "      <td>89.29</td>\n",
       "      <td>100.0</td>\n",
       "      <td>100</td>\n",
       "      <td>86</td>\n",
       "      <td>3x25</td>\n",
       "      <td>7137</td>\n",
       "      <td>85.71</td>\n",
       "      <td>14.29</td>\n",
       "      <td>2014</td>\n",
       "    </tr>\n",
       "    <tr>\n",
       "      <th>2420</th>\n",
       "      <td>westland-infra</td>\n",
       "      <td>871687800090000015</td>\n",
       "      <td>KONINGIN JULIANAWEG</td>\n",
       "      <td>3155XE</td>\n",
       "      <td>3155XH</td>\n",
       "      <td>MAASLAND</td>\n",
       "      <td>28</td>\n",
       "      <td>100.00</td>\n",
       "      <td>100.0</td>\n",
       "      <td>100</td>\n",
       "      <td>100</td>\n",
       "      <td>3x25</td>\n",
       "      <td>4019</td>\n",
       "      <td>100.00</td>\n",
       "      <td>0.00</td>\n",
       "      <td>2014</td>\n",
       "    </tr>\n",
       "    <tr>\n",
       "      <th>2421</th>\n",
       "      <td>westland-infra</td>\n",
       "      <td>871687800090000015</td>\n",
       "      <td>MERESTEIJN</td>\n",
       "      <td>3155XJ</td>\n",
       "      <td>3155XK</td>\n",
       "      <td>MAASLAND</td>\n",
       "      <td>19</td>\n",
       "      <td>89.47</td>\n",
       "      <td>100.0</td>\n",
       "      <td>100</td>\n",
       "      <td>95</td>\n",
       "      <td>3x25</td>\n",
       "      <td>5820</td>\n",
       "      <td>100.00</td>\n",
       "      <td>0.00</td>\n",
       "      <td>2014</td>\n",
       "    </tr>\n",
       "  </tbody>\n",
       "</table>\n",
       "<p>14661 rows × 16 columns</p>\n",
       "</div>"
      ],
      "text/plain": [
       "         net_manager       purchase_area  ... smartmeter_perc  Year\n",
       "0     westland-infra  871687800090000015  ...           17.24  2015\n",
       "1     westland-infra  871687800090000015  ...            7.69  2015\n",
       "2     westland-infra  871687800090000015  ...            0.00  2015\n",
       "3     westland-infra  871687800090000015  ...            4.17  2015\n",
       "4     westland-infra  871687800090000015  ...            6.25  2015\n",
       "...              ...                 ...  ...             ...   ...\n",
       "2417  westland-infra  871687800090000015  ...            0.00  2014\n",
       "2418  westland-infra  871687800090000015  ...            0.00  2014\n",
       "2419  westland-infra  871687800090000015  ...           14.29  2014\n",
       "2420  westland-infra  871687800090000015  ...            0.00  2014\n",
       "2421  westland-infra  871687800090000015  ...            0.00  2014\n",
       "\n",
       "[14661 rows x 16 columns]"
      ]
     },
     "execution_count": 4,
     "metadata": {
      "tags": []
     },
     "output_type": "execute_result"
    }
   ],
   "source": [
    "data0= pd.read_csv('/content/drive/My Drive/Electricity/westland-infra_electricity_2015.csv')\n",
    "data0['Year'] = '2015'\n",
    "data1= pd.read_csv('/content/drive/My Drive/Electricity/westland-infra_electricity_2016.csv')\n",
    "data1['Year'] = '2016'\n",
    "data2= pd.read_csv('/content/drive/My Drive/Electricity/westland-infra_electricity_2017.csv')\n",
    "data2['Year'] = '2017'\n",
    "data3= pd.read_csv('/content/drive/My Drive/Electricity/westland-infra_electricity_2018.csv')\n",
    "data3['Year'] = '2018'\n",
    "data4= pd.read_csv('/content/drive/My Drive/Electricity/westland-infra_electricity_2019.csv')\n",
    "data4['Year'] = '2019'\n",
    "data5= pd.read_csv('/content/drive/My Drive/Electricity/westland-infra_electricity_2014.csv')\n",
    "data5['Year'] = '2014'\n",
    "listd= [data0,data1,data2,data3,data4,data5]\n",
    "westland= pd.concat (listd, axis=0, sort=False)\n",
    "del [data0,data1,data2,data3,data4,data5]\n",
    "westland"
   ]
  },
  {
   "cell_type": "markdown",
   "metadata": {
    "colab_type": "text",
    "id": "wCujrTc6t3Qu"
   },
   "source": [
    "# **Exploratory Data Analysis and Data Preprocessing**"
   ]
  },
  {
   "cell_type": "code",
   "execution_count": 5,
   "metadata": {
    "colab": {
     "base_uri": "https://localhost:8080/",
     "height": 386
    },
    "colab_type": "code",
    "id": "nJkE9ZzVcMk0",
    "outputId": "ccb3cc4a-9479-4616-af21-cbfda029c759"
   },
   "outputs": [
    {
     "name": "stdout",
     "output_type": "stream",
     "text": [
      "<class 'pandas.core.frame.DataFrame'>\n",
      "Int64Index: 15078 entries, 0 to 2502\n",
      "Data columns (total 15 columns):\n",
      " #   Column                        Non-Null Count  Dtype  \n",
      "---  ------                        --------------  -----  \n",
      " 0   net_manager                   15078 non-null  object \n",
      " 1   purchase_area                 15078 non-null  object \n",
      " 2   street                        15078 non-null  object \n",
      " 3   zipcode_from                  15078 non-null  object \n",
      " 4   zipcode_to                    15078 non-null  object \n",
      " 5   city                          15078 non-null  object \n",
      " 6   num_connections               15078 non-null  int64  \n",
      " 7   delivery_perc                 15078 non-null  float64\n",
      " 8   perc_of_active_connections    15078 non-null  float64\n",
      " 9   type_conn_perc                15078 non-null  int64  \n",
      " 10  type_of_connection            15078 non-null  object \n",
      " 11  annual_consume                15078 non-null  int64  \n",
      " 12  annual_consume_lowtarif_perc  15078 non-null  float64\n",
      " 13  smartmeter_perc               15078 non-null  float64\n",
      " 14  Year                          15078 non-null  object \n",
      "dtypes: float64(4), int64(3), object(8)\n",
      "memory usage: 1.8+ MB\n"
     ]
    }
   ],
   "source": [
    "coteq.info()"
   ]
  },
  {
   "cell_type": "code",
   "execution_count": 6,
   "metadata": {
    "colab": {
     "base_uri": "https://localhost:8080/",
     "height": 353
    },
    "colab_type": "code",
    "id": "dzyvYuWQo7wk",
    "outputId": "792a4165-8c39-4164-d9fe-20e540524dbe"
   },
   "outputs": [
    {
     "name": "stdout",
     "output_type": "stream",
     "text": [
      "<class 'pandas.core.frame.DataFrame'>\n",
      "Int64Index: 8836 entries, 0 to 1466\n",
      "Data columns (total 13 columns):\n",
      " #   Column                      Non-Null Count  Dtype  \n",
      "---  ------                      --------------  -----  \n",
      " 0   net_manager                 8836 non-null   int64  \n",
      " 1   purchase_area               8836 non-null   int64  \n",
      " 2   street                      8836 non-null   object \n",
      " 3   zipcode_from                8836 non-null   object \n",
      " 4   zipcode_to                  8836 non-null   object \n",
      " 5   city                        8836 non-null   object \n",
      " 6   num_connections             8831 non-null   float64\n",
      " 7   delivery_perc               7349 non-null   float64\n",
      " 8   perc_of_active_connections  7349 non-null   float64\n",
      " 9   type_conn_perc              8831 non-null   float64\n",
      " 10  type_of_connection          8831 non-null   object \n",
      " 11  annual_consume              8836 non-null   int64  \n",
      " 12  Year                        8836 non-null   object \n",
      "dtypes: float64(4), int64(3), object(6)\n",
      "memory usage: 966.4+ KB\n"
     ]
    }
   ],
   "source": [
    "rendo.info()"
   ]
  },
  {
   "cell_type": "code",
   "execution_count": 7,
   "metadata": {
    "colab": {
     "base_uri": "https://localhost:8080/",
     "height": 403
    },
    "colab_type": "code",
    "id": "2EwaMb9it0Zu",
    "outputId": "b7ef3312-2c52-4372-e871-3692487e4c40"
   },
   "outputs": [
    {
     "name": "stdout",
     "output_type": "stream",
     "text": [
      "<class 'pandas.core.frame.DataFrame'>\n",
      "Int64Index: 14661 entries, 0 to 2421\n",
      "Data columns (total 16 columns):\n",
      " #   Column                        Non-Null Count  Dtype  \n",
      "---  ------                        --------------  -----  \n",
      " 0   net_manager                   14661 non-null  object \n",
      " 1   purchase_area                 14661 non-null  int64  \n",
      " 2   street                        14661 non-null  object \n",
      " 3   zipcode_from                  14661 non-null  object \n",
      " 4   zipcode_to                    14661 non-null  object \n",
      " 5   city                          14661 non-null  object \n",
      " 6   num_connections               14661 non-null  int64  \n",
      " 7   delivery_perc                 14661 non-null  float64\n",
      " 8   perc_of_active_connections    14661 non-null  float64\n",
      " 9   %Defintieve aansl (NRM)       14661 non-null  int64  \n",
      " 10  type_conn_perc                14661 non-null  int64  \n",
      " 11  type_of_connection            14661 non-null  object \n",
      " 12  annual_consume                14661 non-null  int64  \n",
      " 13  annual_consume_lowtarif_perc  14661 non-null  float64\n",
      " 14  smartmeter_perc               14661 non-null  float64\n",
      " 15  Year                          14661 non-null  object \n",
      "dtypes: float64(4), int64(5), object(7)\n",
      "memory usage: 1.9+ MB\n"
     ]
    }
   ],
   "source": [
    "westland.info()"
   ]
  },
  {
   "cell_type": "code",
   "execution_count": 8,
   "metadata": {
    "colab": {},
    "colab_type": "code",
    "id": "V565oOSpVlCm"
   },
   "outputs": [],
   "source": [
    "coteq=coteq.drop(['annual_consume_lowtarif_perc','smartmeter_perc'], axis=1)\n",
    "westland=westland.drop(['annual_consume_lowtarif_perc','smartmeter_perc','%Defintieve aansl (NRM)'], axis=1)"
   ]
  },
  {
   "cell_type": "code",
   "execution_count": 9,
   "metadata": {
    "colab": {
     "base_uri": "https://localhost:8080/",
     "height": 252
    },
    "colab_type": "code",
    "id": "VelOsDXXuBwh",
    "outputId": "2685ab0d-6f29-42bc-d58b-20aaf050e9ce"
   },
   "outputs": [
    {
     "data": {
      "text/plain": [
       "net_manager                   False\n",
       "purchase_area                 False\n",
       "street                        False\n",
       "zipcode_from                  False\n",
       "zipcode_to                    False\n",
       "city                          False\n",
       "num_connections               False\n",
       "delivery_perc                 False\n",
       "perc_of_active_connections    False\n",
       "type_conn_perc                False\n",
       "type_of_connection            False\n",
       "annual_consume                False\n",
       "Year                          False\n",
       "dtype: bool"
      ]
     },
     "execution_count": 9,
     "metadata": {
      "tags": []
     },
     "output_type": "execute_result"
    }
   ],
   "source": [
    "coteq.isnull().any()"
   ]
  },
  {
   "cell_type": "code",
   "execution_count": 10,
   "metadata": {
    "colab": {
     "base_uri": "https://localhost:8080/",
     "height": 252
    },
    "colab_type": "code",
    "id": "nywsZlZifW0D",
    "outputId": "0f3f3a27-7d39-49c5-85c2-2499e6746f2f"
   },
   "outputs": [
    {
     "data": {
      "text/plain": [
       "net_manager                   False\n",
       "purchase_area                 False\n",
       "street                        False\n",
       "zipcode_from                  False\n",
       "zipcode_to                    False\n",
       "city                          False\n",
       "num_connections                True\n",
       "delivery_perc                  True\n",
       "perc_of_active_connections     True\n",
       "type_conn_perc                 True\n",
       "type_of_connection             True\n",
       "annual_consume                False\n",
       "Year                          False\n",
       "dtype: bool"
      ]
     },
     "execution_count": 10,
     "metadata": {
      "tags": []
     },
     "output_type": "execute_result"
    }
   ],
   "source": [
    "rendo.isnull().any()"
   ]
  },
  {
   "cell_type": "code",
   "execution_count": 11,
   "metadata": {
    "colab": {
     "base_uri": "https://localhost:8080/",
     "height": 252
    },
    "colab_type": "code",
    "id": "Nm04EU9zIp5y",
    "outputId": "7f7c6b0f-d66d-4dbd-9fa1-823b6dd0f78a"
   },
   "outputs": [
    {
     "data": {
      "text/plain": [
       "net_manager                      0\n",
       "purchase_area                    0\n",
       "street                           0\n",
       "zipcode_from                     0\n",
       "zipcode_to                       0\n",
       "city                             0\n",
       "num_connections                  5\n",
       "delivery_perc                 1487\n",
       "perc_of_active_connections    1487\n",
       "type_conn_perc                   5\n",
       "type_of_connection               5\n",
       "annual_consume                   0\n",
       "Year                             0\n",
       "dtype: int64"
      ]
     },
     "execution_count": 11,
     "metadata": {
      "tags": []
     },
     "output_type": "execute_result"
    }
   ],
   "source": [
    "rendo.isnull().sum()"
   ]
  },
  {
   "cell_type": "code",
   "execution_count": 12,
   "metadata": {
    "colab": {},
    "colab_type": "code",
    "id": "FaJKAv59Jh4w"
   },
   "outputs": [],
   "source": [
    "rendo = rendo.dropna()"
   ]
  },
  {
   "cell_type": "code",
   "execution_count": 13,
   "metadata": {
    "colab": {
     "base_uri": "https://localhost:8080/",
     "height": 252
    },
    "colab_type": "code",
    "id": "2dVSbPijuC0H",
    "outputId": "3917dda3-2856-4268-d5f1-96e909cc093a"
   },
   "outputs": [
    {
     "data": {
      "text/plain": [
       "net_manager                   False\n",
       "purchase_area                 False\n",
       "street                        False\n",
       "zipcode_from                  False\n",
       "zipcode_to                    False\n",
       "city                          False\n",
       "num_connections               False\n",
       "delivery_perc                 False\n",
       "perc_of_active_connections    False\n",
       "type_conn_perc                False\n",
       "type_of_connection            False\n",
       "annual_consume                False\n",
       "Year                          False\n",
       "dtype: bool"
      ]
     },
     "execution_count": 13,
     "metadata": {
      "tags": []
     },
     "output_type": "execute_result"
    }
   ],
   "source": [
    "westland.isnull().any()"
   ]
  },
  {
   "cell_type": "markdown",
   "metadata": {
    "colab_type": "text",
    "id": "V9GuYlaHldhZ"
   },
   "source": [
    "**Label Encoding**"
   ]
  },
  {
   "cell_type": "code",
   "execution_count": 14,
   "metadata": {
    "colab": {},
    "colab_type": "code",
    "id": "tPJY4LpeOLwr"
   },
   "outputs": [],
   "source": [
    "le = LabelEncoder()"
   ]
  },
  {
   "cell_type": "code",
   "execution_count": 15,
   "metadata": {
    "colab": {
     "base_uri": "https://localhost:8080/",
     "height": 420
    },
    "colab_type": "code",
    "id": "9jM-siKbuNhX",
    "outputId": "fe9073aa-b275-4940-9d5d-67a151803960"
   },
   "outputs": [
    {
     "name": "stdout",
     "output_type": "stream",
     "text": [
      "Index(['net_manager', 'purchase_area', 'street', 'zipcode_from', 'zipcode_to',\n",
      "       'city', 'type_of_connection', 'Year'],\n",
      "      dtype='object')\n",
      "<class 'pandas.core.frame.DataFrame'>\n",
      "Int64Index: 15078 entries, 0 to 2502\n",
      "Data columns (total 13 columns):\n",
      " #   Column                      Non-Null Count  Dtype  \n",
      "---  ------                      --------------  -----  \n",
      " 0   net_manager                 15078 non-null  int64  \n",
      " 1   purchase_area               15078 non-null  int64  \n",
      " 2   street                      15078 non-null  int64  \n",
      " 3   zipcode_from                15078 non-null  int64  \n",
      " 4   zipcode_to                  15078 non-null  int64  \n",
      " 5   city                        15078 non-null  int64  \n",
      " 6   num_connections             15078 non-null  int64  \n",
      " 7   delivery_perc               15078 non-null  float64\n",
      " 8   perc_of_active_connections  15078 non-null  float64\n",
      " 9   type_conn_perc              15078 non-null  int64  \n",
      " 10  type_of_connection          15078 non-null  int64  \n",
      " 11  annual_consume              15078 non-null  int64  \n",
      " 12  Year                        15078 non-null  int64  \n",
      "dtypes: float64(2), int64(11)\n",
      "memory usage: 1.6 MB\n",
      "None\n"
     ]
    }
   ],
   "source": [
    "objList = coteq.select_dtypes(include = \"object\").columns\n",
    "print (objList)\n",
    "for feat in objList:\n",
    "    coteq[feat] = le.fit_transform(coteq[feat].astype(str))\n",
    "print (coteq.info())"
   ]
  },
  {
   "cell_type": "code",
   "execution_count": 16,
   "metadata": {
    "colab": {
     "base_uri": "https://localhost:8080/",
     "height": 521
    },
    "colab_type": "code",
    "id": "bBIwjj4alXuz",
    "outputId": "ba913bfd-4e3b-4a9a-8a5a-5254d11e0fa2"
   },
   "outputs": [
    {
     "name": "stdout",
     "output_type": "stream",
     "text": [
      "Index(['street', 'zipcode_from', 'zipcode_to', 'city', 'type_of_connection',\n",
      "       'Year'],\n",
      "      dtype='object')\n",
      "<class 'pandas.core.frame.DataFrame'>\n",
      "Int64Index: 7344 entries, 0 to 1465\n",
      "Data columns (total 13 columns):\n",
      " #   Column                      Non-Null Count  Dtype  \n",
      "---  ------                      --------------  -----  \n",
      " 0   net_manager                 7344 non-null   int64  \n",
      " 1   purchase_area               7344 non-null   int64  \n",
      " 2   street                      7344 non-null   int64  \n",
      " 3   zipcode_from                7344 non-null   int64  \n",
      " 4   zipcode_to                  7344 non-null   int64  \n",
      " 5   city                        7344 non-null   int64  \n",
      " 6   num_connections             7344 non-null   float64\n",
      " 7   delivery_perc               7344 non-null   float64\n",
      " 8   perc_of_active_connections  7344 non-null   float64\n",
      " 9   type_conn_perc              7344 non-null   float64\n",
      " 10  type_of_connection          7344 non-null   int64  \n",
      " 11  annual_consume              7344 non-null   int64  \n",
      " 12  Year                        7344 non-null   int64  \n",
      "dtypes: float64(4), int64(9)\n",
      "memory usage: 803.2 KB\n",
      "None\n"
     ]
    },
    {
     "name": "stderr",
     "output_type": "stream",
     "text": [
      "/usr/local/lib/python3.6/dist-packages/ipykernel_launcher.py:5: SettingWithCopyWarning: \n",
      "A value is trying to be set on a copy of a slice from a DataFrame.\n",
      "Try using .loc[row_indexer,col_indexer] = value instead\n",
      "\n",
      "See the caveats in the documentation: https://pandas.pydata.org/pandas-docs/stable/user_guide/indexing.html#returning-a-view-versus-a-copy\n",
      "  \"\"\"\n"
     ]
    }
   ],
   "source": [
    "# Converting categorical values to numeric and saving into new dataframe and hence removing the old to clean memory\n",
    "objList = rendo.select_dtypes(include = \"object\").columns\n",
    "print (objList)\n",
    "for feat in objList:\n",
    "    rendo[feat] = le.fit_transform(rendo[feat].astype(str))\n",
    "\n",
    "print (rendo.info())\n"
   ]
  },
  {
   "cell_type": "code",
   "execution_count": 17,
   "metadata": {
    "colab": {
     "base_uri": "https://localhost:8080/",
     "height": 420
    },
    "colab_type": "code",
    "id": "PSEKx7LiuNyA",
    "outputId": "1aa46484-dcf6-4a25-84f4-4df9825b1889"
   },
   "outputs": [
    {
     "name": "stdout",
     "output_type": "stream",
     "text": [
      "Index(['net_manager', 'street', 'zipcode_from', 'zipcode_to', 'city',\n",
      "       'type_of_connection', 'Year'],\n",
      "      dtype='object')\n",
      "<class 'pandas.core.frame.DataFrame'>\n",
      "Int64Index: 14661 entries, 0 to 2421\n",
      "Data columns (total 13 columns):\n",
      " #   Column                      Non-Null Count  Dtype  \n",
      "---  ------                      --------------  -----  \n",
      " 0   net_manager                 14661 non-null  int64  \n",
      " 1   purchase_area               14661 non-null  int64  \n",
      " 2   street                      14661 non-null  int64  \n",
      " 3   zipcode_from                14661 non-null  int64  \n",
      " 4   zipcode_to                  14661 non-null  int64  \n",
      " 5   city                        14661 non-null  int64  \n",
      " 6   num_connections             14661 non-null  int64  \n",
      " 7   delivery_perc               14661 non-null  float64\n",
      " 8   perc_of_active_connections  14661 non-null  float64\n",
      " 9   type_conn_perc              14661 non-null  int64  \n",
      " 10  type_of_connection          14661 non-null  int64  \n",
      " 11  annual_consume              14661 non-null  int64  \n",
      " 12  Year                        14661 non-null  int64  \n",
      "dtypes: float64(2), int64(11)\n",
      "memory usage: 1.6 MB\n",
      "None\n"
     ]
    }
   ],
   "source": [
    "# Converting categorical values to numeric and saving into new dataframe and hence removing the old to clean memory\n",
    "objList = westland.select_dtypes(include = \"object\").columns\n",
    "print (objList)\n",
    "for feat in objList:\n",
    "    westland[feat] = le.fit_transform(westland[feat].astype(str))\n",
    "\n",
    "print (westland.info())\n"
   ]
  },
  {
   "cell_type": "markdown",
   "metadata": {
    "colab_type": "text",
    "id": "F3XYOU-4muim"
   },
   "source": [
    "**Data Preparation**"
   ]
  },
  {
   "cell_type": "code",
   "execution_count": 18,
   "metadata": {
    "colab": {},
    "colab_type": "code",
    "id": "54gONJwt6iTe"
   },
   "outputs": [],
   "source": [
    "trainX = coteq.drop(['perc_of_active_connections'],axis=1)\n",
    "trainY = coteq['perc_of_active_connections']\n",
    "testX= rendo.drop(['perc_of_active_connections'],axis=1)\n",
    "testY = rendo['perc_of_active_connections']\n",
    "validX = westland.drop(['perc_of_active_connections'],axis=1)\n",
    "validY = westland['perc_of_active_connections']"
   ]
  },
  {
   "cell_type": "markdown",
   "metadata": {
    "colab_type": "text",
    "id": "zU1t0BjgmaXh"
   },
   "source": [
    "**Data Normalization**"
   ]
  },
  {
   "cell_type": "code",
   "execution_count": 19,
   "metadata": {
    "colab": {},
    "colab_type": "code",
    "id": "M5vtRjSCnEg4"
   },
   "outputs": [],
   "source": [
    "# normalize the dataset\n",
    "scaler = MinMaxScaler(feature_range=(0, 1))\n",
    "trainX = scaler.fit_transform(trainX)\n",
    "testX = scaler.fit_transform(testX)\n",
    "validX = scaler.fit_transform(validX)"
   ]
  },
  {
   "cell_type": "markdown",
   "metadata": {
    "colab_type": "text",
    "id": "zxg8rmzeKxP_"
   },
   "source": [
    "## **LSTM**"
   ]
  },
  {
   "cell_type": "code",
   "execution_count": 20,
   "metadata": {
    "colab": {},
    "colab_type": "code",
    "id": "RcLMziEqlahf"
   },
   "outputs": [],
   "source": [
    "# Initializing parameters\n",
    "input_dim = 12\n",
    "timesteps = 1"
   ]
  },
  {
   "cell_type": "code",
   "execution_count": 21,
   "metadata": {
    "colab": {},
    "colab_type": "code",
    "id": "9wKtBUR5LMK3"
   },
   "outputs": [],
   "source": [
    "# reshape input to be [samples, time steps, features]\n",
    "trainX = np.reshape(trainX, (len(trainX), timesteps, len(trainX[0])))\n",
    "testX = np.reshape(testX, (len(testX), timesteps, len(testX[0])))\n",
    "validX = np.reshape(validX, (len(validX), timesteps, len(validX[0])))"
   ]
  },
  {
   "cell_type": "code",
   "execution_count": 22,
   "metadata": {
    "colab": {
     "base_uri": "https://localhost:8080/",
     "height": 252
    },
    "colab_type": "code",
    "id": "Sz9IJKf4Ls04",
    "outputId": "675db466-4188-424c-c2a0-beb4998bc178"
   },
   "outputs": [
    {
     "name": "stdout",
     "output_type": "stream",
     "text": [
      "Model: \"sequential\"\n",
      "_________________________________________________________________\n",
      "Layer (type)                 Output Shape              Param #   \n",
      "=================================================================\n",
      "lstm (LSTM)                  (None, 32)                5760      \n",
      "_________________________________________________________________\n",
      "dropout (Dropout)            (None, 32)                0         \n",
      "_________________________________________________________________\n",
      "dense (Dense)                (None, 1)                 33        \n",
      "=================================================================\n",
      "Total params: 5,793\n",
      "Trainable params: 5,793\n",
      "Non-trainable params: 0\n",
      "_________________________________________________________________\n"
     ]
    }
   ],
   "source": [
    "# Initiliazing the sequential model\n",
    "model = Sequential()\n",
    "# Configuring the parameters\n",
    "model.add(LSTM(32,input_shape=(1,12)))\n",
    "# Adding a dropout layer\n",
    "model.add(Dropout(.5))\n",
    "# Adding a dense output layer with sigmoid activation\n",
    "model.add(Dense(units = 1, activation='sigmoid'))\n",
    "model.summary()"
   ]
  },
  {
   "cell_type": "code",
   "execution_count": 23,
   "metadata": {
    "colab": {},
    "colab_type": "code",
    "id": "vdAoOXM7LwCD"
   },
   "outputs": [],
   "source": [
    "# Compiling the model\n",
    "model.compile(loss='categorical_crossentropy', optimizer='adam')"
   ]
  },
  {
   "cell_type": "code",
   "execution_count": 24,
   "metadata": {
    "colab": {
     "base_uri": "https://localhost:8080/",
     "height": 370
    },
    "colab_type": "code",
    "id": "npijVw2buf_1",
    "outputId": "96be1eca-bff5-452a-a9b8-839757c86a17"
   },
   "outputs": [
    {
     "name": "stdout",
     "output_type": "stream",
     "text": [
      "Epoch 1/10\n",
      "302/302 [==============================] - 1s 2ms/step - loss: 1.1740e-05\n",
      "Epoch 2/10\n",
      "302/302 [==============================] - 1s 2ms/step - loss: 1.1740e-05\n",
      "Epoch 3/10\n",
      "302/302 [==============================] - 1s 2ms/step - loss: 1.1740e-05\n",
      "Epoch 4/10\n",
      "302/302 [==============================] - 1s 2ms/step - loss: 1.1740e-05\n",
      "Epoch 5/10\n",
      "302/302 [==============================] - 1s 2ms/step - loss: 1.1740e-05\n",
      "Epoch 6/10\n",
      "302/302 [==============================] - 1s 2ms/step - loss: 1.1740e-05\n",
      "Epoch 7/10\n",
      "302/302 [==============================] - 1s 2ms/step - loss: 1.1740e-05\n",
      "Epoch 8/10\n",
      "302/302 [==============================] - 1s 2ms/step - loss: 1.1740e-05\n",
      "Epoch 9/10\n",
      "302/302 [==============================] - 1s 3ms/step - loss: 1.1740e-05\n",
      "Epoch 10/10\n",
      "302/302 [==============================] - 1s 2ms/step - loss: 1.1740e-05\n"
     ]
    },
    {
     "data": {
      "text/plain": [
       "<tensorflow.python.keras.callbacks.History at 0x7f06c28205f8>"
      ]
     },
     "execution_count": 24,
     "metadata": {
      "tags": []
     },
     "output_type": "execute_result"
    }
   ],
   "source": [
    "# Training the model\n",
    "model.fit(trainX, trainY,batch_size=50,epochs=10)"
   ]
  },
  {
   "cell_type": "code",
   "execution_count": 25,
   "metadata": {
    "colab": {},
    "colab_type": "code",
    "id": "tXqXUBSA5cOx"
   },
   "outputs": [],
   "source": [
    "# make predictions\n",
    "trainPred = model.predict(trainX)\n",
    "testPred = model.predict(testX)\n",
    "validPred = model.predict(validX)"
   ]
  },
  {
   "cell_type": "code",
   "execution_count": 26,
   "metadata": {
    "colab": {
     "base_uri": "https://localhost:8080/",
     "height": 67
    },
    "colab_type": "code",
    "id": "Y82PopZS4IFf",
    "outputId": "0613eb15-9871-432d-d3e1-b06bc88605f1"
   },
   "outputs": [
    {
     "name": "stdout",
     "output_type": "stream",
     "text": [
      "Train Score: 0.98 MAPE\n",
      "Test Score: 0.99 MAPE\n",
      "Test Score: 0.99 MAPE\n"
     ]
    }
   ],
   "source": [
    "# calculate root mean absolute percentage error\n",
    "trainMAPE = (mean_absolute_error(trainY, trainPred))/100\n",
    "print('Train Score: %.2f MAPE' % (trainMAPE))\n",
    "testMAPE =(mean_absolute_error(testY, testPred))/100\n",
    "print('Test Score: %.2f MAPE' % (testMAPE))\n",
    "valMAPE = (mean_absolute_error(validY, validPred))/100\n",
    "print('Valid Score: %.2f MAPE' % (valMAPE))"
   ]
  },
  {
   "cell_type": "markdown",
   "metadata": {
    "colab_type": "text",
    "id": "b1WIh5b6TUwt"
   },
   "source": [
    "## **ARIMA**"
   ]
  },
  {
   "cell_type": "markdown",
   "metadata": {
    "colab_type": "text",
    "id": "Nh3kryBdhhDq"
   },
   "source": [
    "Rendo"
   ]
  },
  {
   "cell_type": "code",
   "execution_count": 27,
   "metadata": {
    "colab": {
     "base_uri": "https://localhost:8080/",
     "height": 729
    },
    "colab_type": "code",
    "id": "AZrtggfMT0lW",
    "outputId": "8c09f0ba-9386-47b0-9cd2-36a397358f91"
   },
   "outputs": [
    {
     "data": {
      "image/png": "[encoded data removed]",
      "text/plain": [
       "<Figure size 1080x840 with 6 Axes>"
      ]
     },
     "metadata": {
      "needs_background": "light",
      "tags": []
     },
     "output_type": "display_data"
    }
   ],
   "source": [
    "from statsmodels.graphics.tsaplots import plot_acf, plot_pacf\n",
    "plt.rcParams.update({'figure.figsize':(9,7), 'figure.dpi':120})\n",
    "rendo=rendo['perc_of_active_connections']\n",
    "# # Original Series\n",
    "fig, axes = plt.subplots(3, 2, sharex=True)\n",
    "axes[0, 0].plot(rendo); axes[0, 0].set_title('Original Series')\n",
    "plot_acf(rendo, ax=axes[0, 1])\n",
    "\n",
    "# 1st Differencing\n",
    "axes[1, 0].plot(rendo.diff()); axes[1, 0].set_title('1st Order Differencing')\n",
    "plot_acf(rendo.diff().dropna(), ax=axes[1, 1])\n",
    "\n",
    "# 2nd Differencing\n",
    "axes[2, 0].plot(rendo.diff().diff()); axes[2, 0].set_title('2nd Order Differencing')\n",
    "plot_acf(rendo.diff().diff().dropna(), ax=axes[2, 1])\n",
    "\n",
    "plt.show()"
   ]
  },
  {
   "cell_type": "code",
   "execution_count": 28,
   "metadata": {
    "colab": {},
    "colab_type": "code",
    "id": "POUY79k0ZEEI"
   },
   "outputs": [],
   "source": [
    "# Create Training and Test\n",
    "train = rendo[:7300]\n",
    "test = rendo[7300:]"
   ]
  },
  {
   "cell_type": "code",
   "execution_count": 29,
   "metadata": {
    "colab": {
     "base_uri": "https://localhost:8080/",
     "height": 474
    },
    "colab_type": "code",
    "id": "Dfy8LqxBjUZc",
    "outputId": "aee6f7c5-a5e3-48ff-80e4-d473ad01535d"
   },
   "outputs": [
    {
     "name": "stderr",
     "output_type": "stream",
     "text": [
      "/usr/local/lib/python3.6/dist-packages/statsmodels/tsa/base/tsa_model.py:215: ValueWarning: An unsupported index was provided and will be ignored when e.g. forecasting.\n",
      "  ' ignored when e.g. forecasting.', ValueWarning)\n",
      "/usr/local/lib/python3.6/dist-packages/statsmodels/tsa/base/tsa_model.py:215: ValueWarning: An unsupported index was provided and will be ignored when e.g. forecasting.\n",
      "  ' ignored when e.g. forecasting.', ValueWarning)\n"
     ]
    },
    {
     "name": "stdout",
     "output_type": "stream",
     "text": [
      "                                  ARIMA Model Results                                   \n",
      "========================================================================================\n",
      "Dep. Variable:     D.perc_of_active_connections   No. Observations:                 7299\n",
      "Model:                           ARIMA(1, 1, 1)   Log Likelihood              -20773.809\n",
      "Method:                                 css-mle   S.D. of innovations              4.166\n",
      "Date:                          Thu, 24 Sep 2020   AIC                          41555.617\n",
      "Time:                                  10:37:08   BIC                          41583.199\n",
      "Sample:                                       1   HQIC                         41565.102\n",
      "                                                                                        \n",
      "======================================================================================================\n",
      "                                         coef    std err          z      P>|z|      [0.025      0.975]\n",
      "------------------------------------------------------------------------------------------------------\n",
      "const                              -2.887e-05      0.000     -0.090      0.929      -0.001       0.001\n",
      "ar.L1.D.perc_of_active_connections     0.1557      0.012     13.285      0.000       0.133       0.179\n",
      "ma.L1.D.perc_of_active_connections    -0.9946      0.002   -588.616      0.000      -0.998      -0.991\n",
      "                                    Roots                                    \n",
      "=============================================================================\n",
      "                  Real          Imaginary           Modulus         Frequency\n",
      "-----------------------------------------------------------------------------\n",
      "AR.1            6.4238           +0.0000j            6.4238            0.0000\n",
      "MA.1            1.0055           +0.0000j            1.0055            0.0000\n",
      "-----------------------------------------------------------------------------\n"
     ]
    }
   ],
   "source": [
    "# fit model\n",
    "model = ARIMA(train, order=(1, 1, 1))  \n",
    "fitted = model.fit(disp=-1) \n",
    "print(fitted.summary())"
   ]
  },
  {
   "cell_type": "code",
   "execution_count": 30,
   "metadata": {
    "colab": {},
    "colab_type": "code",
    "id": "CP7-3pNwoBBh"
   },
   "outputs": [],
   "source": [
    "# Forecast\n",
    "fc, se, conf = fitted.forecast(44, alpha=0.05)  # 95% conf\n",
    "\n",
    "# Make as pandas series\n",
    "fc_series = pd.Series(fc, index=test.index)\n",
    "lower_series = pd.Series(conf[:, 0], index=test.index)\n",
    "upper_series = pd.Series(conf[:, 1], index=test.index)"
   ]
  },
  {
   "cell_type": "code",
   "execution_count": 31,
   "metadata": {
    "colab": {
     "base_uri": "https://localhost:8080/",
     "height": 34
    },
    "colab_type": "code",
    "id": "4HdzPpy2rZ50",
    "outputId": "4b95eaf0-be97-462b-e017-d8fdb0d76616"
   },
   "outputs": [
    {
     "name": "stdout",
     "output_type": "stream",
     "text": [
      "Train Score: 0.08 MAPE\n"
     ]
    }
   ],
   "source": [
    "# calculate root mean absolute percentage error\n",
    "mape = (mean_absolute_error(test, conf[:, 1]))/100\n",
    "print('Train Score: %.2f MAPE' % (mape))"
   ]
  },
  {
   "cell_type": "code",
   "execution_count": 32,
   "metadata": {
    "colab": {
     "base_uri": "https://localhost:8080/",
     "height": 460
    },
    "colab_type": "code",
    "id": "bulN7UvApuT6",
    "outputId": "0886ea78-53dc-4321-bae7-3f0e2ebf1cb1"
   },
   "outputs": [
    {
     "data": {
      "image/png": "[encoded data removed]",
      "text/plain": [
       "<Figure size 1200x500 with 1 Axes>"
      ]
     },
     "metadata": {
      "needs_background": "light",
      "tags": []
     },
     "output_type": "display_data"
    }
   ],
   "source": [
    "# Plot\n",
    "plt.figure(figsize=(12,5), dpi=100)\n",
    "plt.plot(test, label='actual')\n",
    "plt.plot(fc_series, label='forecast')\n",
    "plt.fill_between(lower_series.index, lower_series, upper_series, \n",
    "                 color='k', alpha=.15)\n",
    "plt.title('Forecast vs Actuals')\n",
    "plt.legend(loc='upper left', fontsize=8)\n",
    "plt.show()"
   ]
  },
  {
   "cell_type": "markdown",
   "metadata": {
    "colab_type": "text",
    "id": "yVQdMJdDhmBp"
   },
   "source": [
    "Coteq"
   ]
  },
  {
   "cell_type": "code",
   "execution_count": 33,
   "metadata": {
    "colab": {
     "base_uri": "https://localhost:8080/",
     "height": 729
    },
    "colab_type": "code",
    "id": "RHqkxYdNfCGE",
    "outputId": "148b03ea-e96f-496a-c054-a65e9ca13fcc"
   },
   "outputs": [
    {
     "data": {
      "image/png": "[encoded data removed]",
      "text/plain": [
       "<Figure size 1080x840 with 6 Axes>"
      ]
     },
     "metadata": {
      "needs_background": "light",
      "tags": []
     },
     "output_type": "display_data"
    }
   ],
   "source": [
    "from statsmodels.graphics.tsaplots import plot_acf, plot_pacf\n",
    "plt.rcParams.update({'figure.figsize':(9,7), 'figure.dpi':120})\n",
    "\n",
    "# # Original Series\n",
    "fig, axes = plt.subplots(3, 2, sharex=True)\n",
    "coteq=coteq['perc_of_active_connections']\n",
    "axes[0, 0].plot(); axes[0, 0].set_title('Original Series')\n",
    "plot_acf(coteq, ax=axes[0, 1])\n",
    "\n",
    "# 1st Differencing\n",
    "axes[1, 0].plot(coteq.diff()); axes[1, 0].set_title('1st Order Differencing')\n",
    "plot_acf(coteq.diff().dropna(), ax=axes[1, 1])\n",
    "\n",
    "# 2nd Differencing\n",
    "axes[2, 0].plot(coteq.diff().diff()); axes[2, 0].set_title('2nd Order Differencing')\n",
    "plot_acf(coteq.diff().diff().dropna(), ax=axes[2, 1])\n",
    "\n",
    "plt.show()"
   ]
  },
  {
   "cell_type": "code",
   "execution_count": 34,
   "metadata": {
    "colab": {},
    "colab_type": "code",
    "id": "NxZsORPFgJ7x"
   },
   "outputs": [],
   "source": [
    "# Create Training and Test\n",
    "train = coteq[:15000]\n",
    "test = coteq[15000:]\n",
    "# Forecast\n",
    "fc, se, conf = fitted.forecast(78, alpha=0.05)  # 95% conf\n",
    "\n",
    "# Make as pandas series\n",
    "fc_series = pd.Series(fc, index=test.index)\n",
    "lower_series = pd.Series(conf[:, 0], index=test.index)\n",
    "upper_series = pd.Series(conf[:, 1], index=test.index)"
   ]
  },
  {
   "cell_type": "code",
   "execution_count": 35,
   "metadata": {
    "colab": {
     "base_uri": "https://localhost:8080/",
     "height": 34
    },
    "colab_type": "code",
    "id": "9s2EE1ejrsOs",
    "outputId": "9b0fbd4d-e73a-4661-8dab-eb70ee5a9b19"
   },
   "outputs": [
    {
     "name": "stdout",
     "output_type": "stream",
     "text": [
      "Train Score: 0.08 MAPE\n"
     ]
    }
   ],
   "source": [
    "# calculate root mean absolute percentage error\n",
    "mape = (mean_absolute_error(test, conf[:, 1]))/100\n",
    "print('Train Score: %.2f MAPE' % (mape))"
   ]
  },
  {
   "cell_type": "code",
   "execution_count": 36,
   "metadata": {
    "colab": {
     "base_uri": "https://localhost:8080/",
     "height": 460
    },
    "colab_type": "code",
    "id": "WEWu7xtwgX22",
    "outputId": "ffc6751d-d7f6-4e4f-d092-f6564eb71712"
   },
   "outputs": [
    {
     "data": {
      "image/png": "[encoded data removed]",
      "text/plain": [
       "<Figure size 1200x500 with 1 Axes>"
      ]
     },
     "metadata": {
      "needs_background": "light",
      "tags": []
     },
     "output_type": "display_data"
    }
   ],
   "source": [
    "# Plot\n",
    "plt.figure(figsize=(12,5), dpi=100)\n",
    "plt.plot(test, label='actual')\n",
    "plt.plot(fc_series, label='forecast')\n",
    "plt.fill_between(lower_series.index, lower_series, upper_series, \n",
    "                 color='k', alpha=.15)\n",
    "plt.title('Forecast vs Actuals')\n",
    "plt.legend(loc='upper left', fontsize=8)\n",
    "plt.show()"
   ]
  },
  {
   "cell_type": "markdown",
   "metadata": {
    "colab_type": "text",
    "id": "tnyj9nzxhoyQ"
   },
   "source": [
    "Westland-Infra"
   ]
  },
  {
   "cell_type": "code",
   "execution_count": 37,
   "metadata": {
    "colab": {
     "base_uri": "https://localhost:8080/",
     "height": 729
    },
    "colab_type": "code",
    "id": "Nqsa10FgfCzy",
    "outputId": "5e1c8b8b-a67b-42ee-fb5f-2d33925bb178"
   },
   "outputs": [
    {
     "data": {
      "image/png": "[encoded data removed]",
      "text/plain": [
       "<Figure size 1080x840 with 6 Axes>"
      ]
     },
     "metadata": {
      "needs_background": "light",
      "tags": []
     },
     "output_type": "display_data"
    }
   ],
   "source": [
    "from statsmodels.graphics.tsaplots import plot_acf, plot_pacf\n",
    "plt.rcParams.update({'figure.figsize':(9,7), 'figure.dpi':120})\n",
    "westland = westland['perc_of_active_connections']\n",
    "# # Original Series\n",
    "fig, axes = plt.subplots(3, 2, sharex=True)\n",
    "axes[0, 0].plot(westland); axes[0, 0].set_title('Original Series')\n",
    "plot_acf(westland, ax=axes[0, 1])\n",
    "\n",
    "# 1st Differencing\n",
    "axes[1, 0].plot(westland.diff()); axes[1, 0].set_title('1st Order Differencing')\n",
    "plot_acf(westland.diff().dropna(), ax=axes[1, 1])\n",
    "\n",
    "# 2nd Differencing\n",
    "axes[2, 0].plot(westland.diff().diff()); axes[2, 0].set_title('2nd Order Differencing')\n",
    "plot_acf(westland.diff().diff().dropna(), ax=axes[2, 1])\n",
    "\n",
    "plt.show()"
   ]
  },
  {
   "cell_type": "code",
   "execution_count": 38,
   "metadata": {
    "colab": {},
    "colab_type": "code",
    "id": "MgRjaTdAgJO-"
   },
   "outputs": [],
   "source": [
    "# Create Training and Test\n",
    "train = westland[:14600]\n",
    "test = westland[14600:]"
   ]
  },
  {
   "cell_type": "code",
   "execution_count": 39,
   "metadata": {
    "colab": {},
    "colab_type": "code",
    "id": "yTpYBqCwwu2T"
   },
   "outputs": [],
   "source": [
    "# Forecast\n",
    "fc, se, conf = fitted.forecast(61, alpha=0.05)  # 95% conf\n",
    "\n",
    "# Make as pandas series\n",
    "fc_series = pd.Series(fc, index=test.index)\n",
    "lower_series = pd.Series(conf[:, 0], index=test.index)\n",
    "upper_series = pd.Series(conf[:, 1], index=test.index)"
   ]
  },
  {
   "cell_type": "code",
   "execution_count": 40,
   "metadata": {
    "colab": {
     "base_uri": "https://localhost:8080/",
     "height": 34
    },
    "colab_type": "code",
    "id": "gTzZ7IItruLX",
    "outputId": "872ec3b5-b6d9-4360-b445-bb9ee61d2a7a"
   },
   "outputs": [
    {
     "name": "stdout",
     "output_type": "stream",
     "text": [
      "Train Score: 0.08 MAPE\n"
     ]
    }
   ],
   "source": [
    "# calculate root mean absolute percentage error\n",
    "mape = (mean_absolute_error(test, conf[:, 1]))/100\n",
    "print('Train Score: %.2f MAPE' % (mape))"
   ]
  },
  {
   "cell_type": "code",
   "execution_count": 41,
   "metadata": {
    "colab": {
     "base_uri": "https://localhost:8080/",
     "height": 460
    },
    "colab_type": "code",
    "id": "ryAQBZlcgZNp",
    "outputId": "99092e4d-ceeb-4f06-da63-1692516da1d4"
   },
   "outputs": [
    {
     "data": {
      "image/png": "[encoded data removed]",
      "text/plain": [
       "<Figure size 1200x500 with 1 Axes>"
      ]
     },
     "metadata": {
      "needs_background": "light",
      "tags": []
     },
     "output_type": "display_data"
    }
   ],
   "source": [
    "# Plot\n",
    "plt.figure(figsize=(12,5), dpi=100)\n",
    "plt.plot(test, label='actual')\n",
    "plt.plot(fc_series, label='forecast')\n",
    "plt.fill_between(lower_series.index, lower_series, upper_series, \n",
    "                 color='k', alpha=.15)\n",
    "plt.title('Forecast vs Actuals')\n",
    "plt.legend(loc='upper left', fontsize=8)\n",
    "plt.show()"
   ]
  }
 ],
 "metadata": {
  "accelerator": "TPU",
  "colab": {
   "collapsed_sections": [],
   "name": "Electricity_Churn.ipynb",
   "provenance": [],
   "toc_visible": true
  },
  "kernelspec": {
   "display_name": "Python 3",
   "language": "python",
   "name": "python3"
  },
  "language_info": {
   "codemirror_mode": {
    "name": "ipython",
    "version": 3
   },
   "file_extension": ".py",
   "mimetype": "text/x-python",
   "name": "python",
   "nbconvert_exporter": "python",
   "pygments_lexer": "ipython3",
   "version": "3.7.6"
  }
 },
 "nbformat": 4,
 "nbformat_minor": 1
}
