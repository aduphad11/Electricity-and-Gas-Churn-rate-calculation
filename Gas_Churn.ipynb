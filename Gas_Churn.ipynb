{
  "nbformat": 4,
  "nbformat_minor": 0,
  "metadata": {
    "colab": {
      "name": "Gas_Churn.ipynb",
      "provenance": [],
      "collapsed_sections": [],
      "toc_visible": true
    },
    "kernelspec": {
      "name": "python3",
      "display_name": "Python 3"
    },
    "accelerator": "TPU"
  },
  "cells": [
    {
      "cell_type": "code",
      "metadata": {
        "id": "_arhaBXTq3q6",
        "colab_type": "code",
        "colab": {
          "base_uri": "https://localhost:8080/",
          "height": 70
        },
        "outputId": "e25227e2-a296-453e-81ed-24ac39d632da"
      },
      "source": [
        "import numpy as np\n",
        "import matplotlib.pyplot as plt\n",
        "import pandas as pd\n",
        "import math\n",
        "from sklearn.impute import SimpleImputer\n",
        "from sklearn.preprocessing import LabelEncoder\n",
        "from sklearn.preprocessing import MinMaxScaler\n",
        "from statsmodels.tsa.arima_model import ARIMA\n",
        "from sklearn.metrics import mean_absolute_error\n",
        "import tensorflow as tf\n",
        "from keras.models import Sequential\n",
        "from keras.layers import Dense, Dropout\n",
        "from keras.layers import LSTM\n",
        "import datetime as dt"
      ],
      "execution_count": 1,
      "outputs": [
        {
          "output_type": "stream",
          "text": [
            "/usr/local/lib/python3.6/dist-packages/statsmodels/tools/_testing.py:19: FutureWarning: pandas.util.testing is deprecated. Use the functions in the public API at pandas.testing instead.\n",
            "  import pandas.util.testing as tm\n"
          ],
          "name": "stderr"
        }
      ]
    },
    {
      "cell_type": "markdown",
      "metadata": {
        "id": "NKUu2L2Jp3N-",
        "colab_type": "text"
      },
      "source": [
        "# **Data Import**"
      ]
    },
    {
      "cell_type": "markdown",
      "metadata": {
        "id": "w4ny6h4DqBhS",
        "colab_type": "text"
      },
      "source": [
        "**Coteq**"
      ]
    },
    {
      "cell_type": "code",
      "metadata": {
        "colab_type": "code",
        "id": "PUUOuGv-o8x2",
        "colab": {
          "base_uri": "https://localhost:8080/",
          "height": 926
        },
        "outputId": "b649598b-7720-49ab-85a4-91a090ac1f72"
      },
      "source": [
        "data0= pd.read_csv('/content/drive/My Drive/Gas/coteq_gas_2015.csv')\n",
        "data0['Year'] = '2015'\n",
        "data1= pd.read_csv('/content/drive/My Drive/Gas/coteq_gas_2016.csv')\n",
        "data1['Year'] = '2016'\n",
        "data2= pd.read_csv('/content/drive/My Drive/Gas/coteq_gas_2017.csv')\n",
        "data2['Year'] = '2017'\n",
        "data3= pd.read_csv('/content/drive/My Drive/Gas/coteq_gas_2018.csv')\n",
        "data3['Year'] = '2018'\n",
        "data4= pd.read_csv('/content/drive/My Drive/Gas/coteq_gas_2019.csv')\n",
        "data4['Year'] = '2019'\n",
        "data5= pd.read_csv('/content/drive/My Drive/Gas/coteq_gas_2014.csv')\n",
        "data5['Year'] = '2014'\n",
        "listd= [data0,data1,data2,data3,data4,data5]\n",
        "coteq= pd.concat (listd, axis=0, sort=False)\n",
        "del [data0,data1,data2,data3,data4,data5]\n",
        "coteq"
      ],
      "execution_count": 2,
      "outputs": [
        {
          "output_type": "execute_result",
          "data": {
            "text/html": [
              "<div>\n",
              "<style scoped>\n",
              "    .dataframe tbody tr th:only-of-type {\n",
              "        vertical-align: middle;\n",
              "    }\n",
              "\n",
              "    .dataframe tbody tr th {\n",
              "        vertical-align: top;\n",
              "    }\n",
              "\n",
              "    .dataframe thead th {\n",
              "        text-align: right;\n",
              "    }\n",
              "</style>\n",
              "<table border=\"1\" class=\"dataframe\">\n",
              "  <thead>\n",
              "    <tr style=\"text-align: right;\">\n",
              "      <th></th>\n",
              "      <th>net_manager</th>\n",
              "      <th>purchase_area</th>\n",
              "      <th>street</th>\n",
              "      <th>zipcode_from</th>\n",
              "      <th>zipcode_to</th>\n",
              "      <th>city</th>\n",
              "      <th>num_connections</th>\n",
              "      <th>delivery_perc</th>\n",
              "      <th>perc_of_active_connections</th>\n",
              "      <th>type_conn_perc</th>\n",
              "      <th>type_of_connection</th>\n",
              "      <th>annual_consume</th>\n",
              "      <th>annual_consume_lowtarif_perc</th>\n",
              "      <th>smartmeter_perc</th>\n",
              "      <th>Year</th>\n",
              "    </tr>\n",
              "  </thead>\n",
              "  <tbody>\n",
              "    <tr>\n",
              "      <th>0</th>\n",
              "      <td>Coteq Netbeheer BV</td>\n",
              "      <td>GAS Gastransport Services (GASUNIE)</td>\n",
              "      <td>Margrietstraat</td>\n",
              "      <td>4175GA</td>\n",
              "      <td>7165BD</td>\n",
              "      <td>HAAFTEN</td>\n",
              "      <td>18</td>\n",
              "      <td>100.0</td>\n",
              "      <td>83.33</td>\n",
              "      <td>78</td>\n",
              "      <td>G4</td>\n",
              "      <td>3457</td>\n",
              "      <td>0.0</td>\n",
              "      <td>0.0</td>\n",
              "      <td>2015</td>\n",
              "    </tr>\n",
              "    <tr>\n",
              "      <th>1</th>\n",
              "      <td>Coteq Netbeheer BV</td>\n",
              "      <td>GAS Gastransport Services (GASUNIE)</td>\n",
              "      <td>Oude Deldenseweg</td>\n",
              "      <td>7165BG</td>\n",
              "      <td>7216PN</td>\n",
              "      <td>RIETMOLEN</td>\n",
              "      <td>17</td>\n",
              "      <td>100.0</td>\n",
              "      <td>100.00</td>\n",
              "      <td>76</td>\n",
              "      <td>G4</td>\n",
              "      <td>4036</td>\n",
              "      <td>0.0</td>\n",
              "      <td>0.0</td>\n",
              "      <td>2015</td>\n",
              "    </tr>\n",
              "    <tr>\n",
              "      <th>2</th>\n",
              "      <td>Coteq Netbeheer BV</td>\n",
              "      <td>GAS Gastransport Services (GASUNIE)</td>\n",
              "      <td>Wippertdijk</td>\n",
              "      <td>7216PP</td>\n",
              "      <td>7245TG</td>\n",
              "      <td>KRING VAN DORTH</td>\n",
              "      <td>117</td>\n",
              "      <td>100.0</td>\n",
              "      <td>100.00</td>\n",
              "      <td>71</td>\n",
              "      <td>G4</td>\n",
              "      <td>3695</td>\n",
              "      <td>0.0</td>\n",
              "      <td>0.0</td>\n",
              "      <td>2015</td>\n",
              "    </tr>\n",
              "    <tr>\n",
              "      <th>3</th>\n",
              "      <td>Coteq Netbeheer BV</td>\n",
              "      <td>GAS Gastransport Services (GASUNIE)</td>\n",
              "      <td>Warfveendijk</td>\n",
              "      <td>7245TH</td>\n",
              "      <td>7245TP</td>\n",
              "      <td>LAREN GLD</td>\n",
              "      <td>26</td>\n",
              "      <td>100.0</td>\n",
              "      <td>100.00</td>\n",
              "      <td>62</td>\n",
              "      <td>G4</td>\n",
              "      <td>3307</td>\n",
              "      <td>0.0</td>\n",
              "      <td>0.0</td>\n",
              "      <td>2015</td>\n",
              "    </tr>\n",
              "    <tr>\n",
              "      <th>4</th>\n",
              "      <td>Coteq Netbeheer BV</td>\n",
              "      <td>GAS Gastransport Services (GASUNIE)</td>\n",
              "      <td>Kielersdijk</td>\n",
              "      <td>7245TS</td>\n",
              "      <td>7275AZ</td>\n",
              "      <td>LAREN GLD</td>\n",
              "      <td>81</td>\n",
              "      <td>100.0</td>\n",
              "      <td>97.53</td>\n",
              "      <td>78</td>\n",
              "      <td>G4</td>\n",
              "      <td>2306</td>\n",
              "      <td>0.0</td>\n",
              "      <td>0.0</td>\n",
              "      <td>2015</td>\n",
              "    </tr>\n",
              "    <tr>\n",
              "      <th>...</th>\n",
              "      <td>...</td>\n",
              "      <td>...</td>\n",
              "      <td>...</td>\n",
              "      <td>...</td>\n",
              "      <td>...</td>\n",
              "      <td>...</td>\n",
              "      <td>...</td>\n",
              "      <td>...</td>\n",
              "      <td>...</td>\n",
              "      <td>...</td>\n",
              "      <td>...</td>\n",
              "      <td>...</td>\n",
              "      <td>...</td>\n",
              "      <td>...</td>\n",
              "      <td>...</td>\n",
              "    </tr>\n",
              "    <tr>\n",
              "      <th>6769</th>\n",
              "      <td>Coteq Netbeheer BV</td>\n",
              "      <td>GAS Gastransport Services (GASUNIE)</td>\n",
              "      <td>Doozemansteeg</td>\n",
              "      <td>7798CH</td>\n",
              "      <td>7798CJ</td>\n",
              "      <td>COLLENDOORN</td>\n",
              "      <td>22</td>\n",
              "      <td>100.0</td>\n",
              "      <td>100.00</td>\n",
              "      <td>95</td>\n",
              "      <td>G4</td>\n",
              "      <td>2474</td>\n",
              "      <td>0.0</td>\n",
              "      <td>0.0</td>\n",
              "      <td>2014</td>\n",
              "    </tr>\n",
              "    <tr>\n",
              "      <th>6770</th>\n",
              "      <td>Coteq Netbeheer BV</td>\n",
              "      <td>GAS Gastransport Services (GASUNIE)</td>\n",
              "      <td>Allemansweg</td>\n",
              "      <td>7798CK</td>\n",
              "      <td>7798CM</td>\n",
              "      <td>COLLENDOORN</td>\n",
              "      <td>18</td>\n",
              "      <td>100.0</td>\n",
              "      <td>100.00</td>\n",
              "      <td>94</td>\n",
              "      <td>G4</td>\n",
              "      <td>2520</td>\n",
              "      <td>0.0</td>\n",
              "      <td>0.0</td>\n",
              "      <td>2014</td>\n",
              "    </tr>\n",
              "    <tr>\n",
              "      <th>6771</th>\n",
              "      <td>Coteq Netbeheer BV</td>\n",
              "      <td>GAS Gastransport Services (GASUNIE)</td>\n",
              "      <td>Luggersweg</td>\n",
              "      <td>7798CN</td>\n",
              "      <td>7798CN</td>\n",
              "      <td>COLLENDOORN</td>\n",
              "      <td>11</td>\n",
              "      <td>100.0</td>\n",
              "      <td>81.82</td>\n",
              "      <td>100</td>\n",
              "      <td>G4</td>\n",
              "      <td>1901</td>\n",
              "      <td>0.0</td>\n",
              "      <td>0.0</td>\n",
              "      <td>2014</td>\n",
              "    </tr>\n",
              "    <tr>\n",
              "      <th>6772</th>\n",
              "      <td>Coteq Netbeheer BV</td>\n",
              "      <td>GAS Gastransport Services (GASUNIE)</td>\n",
              "      <td>Middenweg</td>\n",
              "      <td>7798CP</td>\n",
              "      <td>7798CW</td>\n",
              "      <td>COLLENDOORN</td>\n",
              "      <td>27</td>\n",
              "      <td>100.0</td>\n",
              "      <td>100.00</td>\n",
              "      <td>81</td>\n",
              "      <td>G4</td>\n",
              "      <td>3798</td>\n",
              "      <td>0.0</td>\n",
              "      <td>0.0</td>\n",
              "      <td>2014</td>\n",
              "    </tr>\n",
              "    <tr>\n",
              "      <th>6773</th>\n",
              "      <td>Coteq Netbeheer BV</td>\n",
              "      <td>GAS Gastransport Services (GASUNIE)</td>\n",
              "      <td>Wetterkoelenweg</td>\n",
              "      <td>7798CX</td>\n",
              "      <td>7925PP</td>\n",
              "      <td>COLLENDOORN</td>\n",
              "      <td>14</td>\n",
              "      <td>100.0</td>\n",
              "      <td>100.00</td>\n",
              "      <td>93</td>\n",
              "      <td>G4</td>\n",
              "      <td>3359</td>\n",
              "      <td>0.0</td>\n",
              "      <td>0.0</td>\n",
              "      <td>2014</td>\n",
              "    </tr>\n",
              "  </tbody>\n",
              "</table>\n",
              "<p>40738 rows × 15 columns</p>\n",
              "</div>"
            ],
            "text/plain": [
              "             net_manager  ...  Year\n",
              "0     Coteq Netbeheer BV  ...  2015\n",
              "1     Coteq Netbeheer BV  ...  2015\n",
              "2     Coteq Netbeheer BV  ...  2015\n",
              "3     Coteq Netbeheer BV  ...  2015\n",
              "4     Coteq Netbeheer BV  ...  2015\n",
              "...                  ...  ...   ...\n",
              "6769  Coteq Netbeheer BV  ...  2014\n",
              "6770  Coteq Netbeheer BV  ...  2014\n",
              "6771  Coteq Netbeheer BV  ...  2014\n",
              "6772  Coteq Netbeheer BV  ...  2014\n",
              "6773  Coteq Netbeheer BV  ...  2014\n",
              "\n",
              "[40738 rows x 15 columns]"
            ]
          },
          "metadata": {
            "tags": []
          },
          "execution_count": 2
        }
      ]
    },
    {
      "cell_type": "markdown",
      "metadata": {
        "id": "zwC_LYWNp9HT",
        "colab_type": "text"
      },
      "source": [
        "**Rendo**"
      ]
    },
    {
      "cell_type": "code",
      "metadata": {
        "id": "pHGHmz89xey1",
        "colab_type": "code",
        "colab": {
          "base_uri": "https://localhost:8080/",
          "height": 422
        },
        "outputId": "204e9c11-d5c3-4619-f22e-2a5a393f6813"
      },
      "source": [
        "data0= pd.read_csv('/content/drive/My Drive/Gas/rendo_gas_2015.csv')\n",
        "data0['Year'] = '2015'\n",
        "data1= pd.read_csv('/content/drive/My Drive/Gas/rendo_gas_2016.csv')\n",
        "data1['Year'] = '2016'\n",
        "data2= pd.read_csv('/content/drive/My Drive/Gas/rendo_gas_2017.csv')\n",
        "data2['Year'] = '2017'\n",
        "data3= pd.read_csv('/content/drive/My Drive/Gas/rendo_gas_2017.csv')\n",
        "data3['Year'] = '2018'\n",
        "data4= pd.read_csv('/content/drive/My Drive/Gas/rendo_gas_2019.csv')\n",
        "data4['Year'] = '2019'\n",
        "data5= pd.read_csv('/content/drive/My Drive/Gas/rendo_gas_2014.csv')\n",
        "data5['Year'] = '2014'\n",
        "listd= [data0,data1,data2,data3,data4,data5]\n",
        "rendo= pd.concat (listd, axis=0, sort=False)\n",
        "del [data0,data1,data2,data3,data4,data5]\n",
        "rendo"
      ],
      "execution_count": 3,
      "outputs": [
        {
          "output_type": "execute_result",
          "data": {
            "text/html": [
              "<div>\n",
              "<style scoped>\n",
              "    .dataframe tbody tr th:only-of-type {\n",
              "        vertical-align: middle;\n",
              "    }\n",
              "\n",
              "    .dataframe tbody tr th {\n",
              "        vertical-align: top;\n",
              "    }\n",
              "\n",
              "    .dataframe thead th {\n",
              "        text-align: right;\n",
              "    }\n",
              "</style>\n",
              "<table border=\"1\" class=\"dataframe\">\n",
              "  <thead>\n",
              "    <tr style=\"text-align: right;\">\n",
              "      <th></th>\n",
              "      <th>net_manager</th>\n",
              "      <th>purchase_area</th>\n",
              "      <th>street</th>\n",
              "      <th>zipcode_from</th>\n",
              "      <th>zipcode_to</th>\n",
              "      <th>city</th>\n",
              "      <th>num_connections</th>\n",
              "      <th>delivery_perc</th>\n",
              "      <th>perc_of_active_connections</th>\n",
              "      <th>type_conn_perc</th>\n",
              "      <th>type_of_connection</th>\n",
              "      <th>annual_consume</th>\n",
              "      <th>Year</th>\n",
              "    </tr>\n",
              "  </thead>\n",
              "  <tbody>\n",
              "    <tr>\n",
              "      <th>0</th>\n",
              "      <td>8716912000008</td>\n",
              "      <td>871718518003002641</td>\n",
              "      <td>Langewijk</td>\n",
              "      <td>7701AA</td>\n",
              "      <td>7701AA</td>\n",
              "      <td>DEDEMSVAART</td>\n",
              "      <td>17.0</td>\n",
              "      <td>100.0</td>\n",
              "      <td>100.0</td>\n",
              "      <td>100.0</td>\n",
              "      <td>G4</td>\n",
              "      <td>2154</td>\n",
              "      <td>2015</td>\n",
              "    </tr>\n",
              "    <tr>\n",
              "      <th>1</th>\n",
              "      <td>8716912000008</td>\n",
              "      <td>871718518003002641</td>\n",
              "      <td>Langewijk</td>\n",
              "      <td>7701AB</td>\n",
              "      <td>7701AB</td>\n",
              "      <td>DEDEMSVAART</td>\n",
              "      <td>10.0</td>\n",
              "      <td>100.0</td>\n",
              "      <td>100.0</td>\n",
              "      <td>80.0</td>\n",
              "      <td>G4</td>\n",
              "      <td>3753</td>\n",
              "      <td>2015</td>\n",
              "    </tr>\n",
              "    <tr>\n",
              "      <th>2</th>\n",
              "      <td>8716912000008</td>\n",
              "      <td>871718518003002641</td>\n",
              "      <td>Langewijk</td>\n",
              "      <td>7701AC</td>\n",
              "      <td>7701AC</td>\n",
              "      <td>DEDEMSVAART</td>\n",
              "      <td>17.0</td>\n",
              "      <td>100.0</td>\n",
              "      <td>100.0</td>\n",
              "      <td>100.0</td>\n",
              "      <td>G4</td>\n",
              "      <td>2056</td>\n",
              "      <td>2015</td>\n",
              "    </tr>\n",
              "    <tr>\n",
              "      <th>3</th>\n",
              "      <td>8716912000008</td>\n",
              "      <td>871718518003002641</td>\n",
              "      <td>Langewijk</td>\n",
              "      <td>7701AD</td>\n",
              "      <td>7701AD</td>\n",
              "      <td>DEDEMSVAART</td>\n",
              "      <td>20.0</td>\n",
              "      <td>100.0</td>\n",
              "      <td>100.0</td>\n",
              "      <td>95.0</td>\n",
              "      <td>G4</td>\n",
              "      <td>1942</td>\n",
              "      <td>2015</td>\n",
              "    </tr>\n",
              "    <tr>\n",
              "      <th>4</th>\n",
              "      <td>8716912000008</td>\n",
              "      <td>871718518003002641</td>\n",
              "      <td>Langewijk</td>\n",
              "      <td>7701AE</td>\n",
              "      <td>7701AE</td>\n",
              "      <td>DEDEMSVAART</td>\n",
              "      <td>13.0</td>\n",
              "      <td>100.0</td>\n",
              "      <td>100.0</td>\n",
              "      <td>92.0</td>\n",
              "      <td>G4</td>\n",
              "      <td>2427</td>\n",
              "      <td>2015</td>\n",
              "    </tr>\n",
              "    <tr>\n",
              "      <th>...</th>\n",
              "      <td>...</td>\n",
              "      <td>...</td>\n",
              "      <td>...</td>\n",
              "      <td>...</td>\n",
              "      <td>...</td>\n",
              "      <td>...</td>\n",
              "      <td>...</td>\n",
              "      <td>...</td>\n",
              "      <td>...</td>\n",
              "      <td>...</td>\n",
              "      <td>...</td>\n",
              "      <td>...</td>\n",
              "      <td>...</td>\n",
              "    </tr>\n",
              "    <tr>\n",
              "      <th>4959</th>\n",
              "      <td>8716912000008</td>\n",
              "      <td>871718518003012077</td>\n",
              "      <td>Lange Drift</td>\n",
              "      <td>8438SE</td>\n",
              "      <td>8438SG</td>\n",
              "      <td>WATEREN</td>\n",
              "      <td>17.0</td>\n",
              "      <td>100.0</td>\n",
              "      <td>100.0</td>\n",
              "      <td>71.0</td>\n",
              "      <td>G4</td>\n",
              "      <td>2065</td>\n",
              "      <td>2014</td>\n",
              "    </tr>\n",
              "    <tr>\n",
              "      <th>4960</th>\n",
              "      <td>8716912000008</td>\n",
              "      <td>871718518003012077</td>\n",
              "      <td>Huenderweg</td>\n",
              "      <td>8438SH</td>\n",
              "      <td>8438ST</td>\n",
              "      <td>WATEREN</td>\n",
              "      <td>85.0</td>\n",
              "      <td>100.0</td>\n",
              "      <td>100.0</td>\n",
              "      <td>98.0</td>\n",
              "      <td>G4</td>\n",
              "      <td>1418</td>\n",
              "      <td>2014</td>\n",
              "    </tr>\n",
              "    <tr>\n",
              "      <th>4961</th>\n",
              "      <td>8716912000008</td>\n",
              "      <td>871718518003012077</td>\n",
              "      <td>Wateren</td>\n",
              "      <td>8439SL</td>\n",
              "      <td>8439SN</td>\n",
              "      <td>OUDE WILLEM</td>\n",
              "      <td>16.0</td>\n",
              "      <td>100.0</td>\n",
              "      <td>100.0</td>\n",
              "      <td>81.0</td>\n",
              "      <td>G4</td>\n",
              "      <td>3404</td>\n",
              "      <td>2014</td>\n",
              "    </tr>\n",
              "    <tr>\n",
              "      <th>4962</th>\n",
              "      <td>8716912000008</td>\n",
              "      <td>871718518003012077</td>\n",
              "      <td>Tilgrupweg</td>\n",
              "      <td>8439SR</td>\n",
              "      <td>8439SR</td>\n",
              "      <td>OUDE WILLEM</td>\n",
              "      <td>72.0</td>\n",
              "      <td>100.0</td>\n",
              "      <td>100.0</td>\n",
              "      <td>100.0</td>\n",
              "      <td>G4</td>\n",
              "      <td>1170</td>\n",
              "      <td>2014</td>\n",
              "    </tr>\n",
              "    <tr>\n",
              "      <th>4963</th>\n",
              "      <td>8716912000008</td>\n",
              "      <td>871718518003012077</td>\n",
              "      <td>Worstsloot</td>\n",
              "      <td>8538XM</td>\n",
              "      <td>8538XM</td>\n",
              "      <td>BANTEGA</td>\n",
              "      <td>NaN</td>\n",
              "      <td>100.0</td>\n",
              "      <td>100.0</td>\n",
              "      <td>NaN</td>\n",
              "      <td>NaN</td>\n",
              "      <td>3992</td>\n",
              "      <td>2014</td>\n",
              "    </tr>\n",
              "  </tbody>\n",
              "</table>\n",
              "<p>29934 rows × 13 columns</p>\n",
              "</div>"
            ],
            "text/plain": [
              "        net_manager       purchase_area  ... annual_consume  Year\n",
              "0     8716912000008  871718518003002641  ...           2154  2015\n",
              "1     8716912000008  871718518003002641  ...           3753  2015\n",
              "2     8716912000008  871718518003002641  ...           2056  2015\n",
              "3     8716912000008  871718518003002641  ...           1942  2015\n",
              "4     8716912000008  871718518003002641  ...           2427  2015\n",
              "...             ...                 ...  ...            ...   ...\n",
              "4959  8716912000008  871718518003012077  ...           2065  2014\n",
              "4960  8716912000008  871718518003012077  ...           1418  2014\n",
              "4961  8716912000008  871718518003012077  ...           3404  2014\n",
              "4962  8716912000008  871718518003012077  ...           1170  2014\n",
              "4963  8716912000008  871718518003012077  ...           3992  2014\n",
              "\n",
              "[29934 rows x 13 columns]"
            ]
          },
          "metadata": {
            "tags": []
          },
          "execution_count": 3
        }
      ]
    },
    {
      "cell_type": "markdown",
      "metadata": {
        "id": "7cNzDaGcqGGi",
        "colab_type": "text"
      },
      "source": [
        "**Westland-infra**"
      ]
    },
    {
      "cell_type": "code",
      "metadata": {
        "colab_type": "code",
        "id": "bLQZnBV6qanz",
        "colab": {
          "base_uri": "https://localhost:8080/",
          "height": 606
        },
        "outputId": "19a199a1-8e5c-4c13-cf4b-02b63856033b"
      },
      "source": [
        "data0= pd.read_csv('/content/drive/My Drive/Gas/westland-infra_gas_2015.csv')\n",
        "data0['Year'] = '2015'\n",
        "data1= pd.read_csv('/content/drive/My Drive/Gas/westland-infra_gas_2016.csv')\n",
        "data1['Year'] = '2016'\n",
        "data2= pd.read_csv('/content/drive/My Drive/Gas/westland-infra_gas_2017.csv')\n",
        "data2['Year'] = '2017'\n",
        "data3= pd.read_csv('/content/drive/My Drive/Gas/westland-infra_gas_2018.csv')\n",
        "data3['Year'] = '2018'\n",
        "data4= pd.read_csv('/content/drive/My Drive/Gas/westland-infra_gas_2019.csv')\n",
        "data4['Year'] = '2019'\n",
        "data5= pd.read_csv('/content/drive/My Drive/Gas/westland-infra_gas_2014.csv')\n",
        "data5['Year'] = '2014'\n",
        "listd= [data0,data1,data2,data3,data4,data5]\n",
        "westland= pd.concat (listd, axis=0, sort=False)\n",
        "del [data0,data1,data2,data3,data4,data5]\n",
        "westland"
      ],
      "execution_count": 4,
      "outputs": [
        {
          "output_type": "execute_result",
          "data": {
            "text/html": [
              "<div>\n",
              "<style scoped>\n",
              "    .dataframe tbody tr th:only-of-type {\n",
              "        vertical-align: middle;\n",
              "    }\n",
              "\n",
              "    .dataframe tbody tr th {\n",
              "        vertical-align: top;\n",
              "    }\n",
              "\n",
              "    .dataframe thead th {\n",
              "        text-align: right;\n",
              "    }\n",
              "</style>\n",
              "<table border=\"1\" class=\"dataframe\">\n",
              "  <thead>\n",
              "    <tr style=\"text-align: right;\">\n",
              "      <th></th>\n",
              "      <th>net_manager</th>\n",
              "      <th>purchase_area</th>\n",
              "      <th>street</th>\n",
              "      <th>zipcode_from</th>\n",
              "      <th>zipcode_to</th>\n",
              "      <th>city</th>\n",
              "      <th>num_connections</th>\n",
              "      <th>delivery_perc</th>\n",
              "      <th>perc_of_active_connections</th>\n",
              "      <th>%Defintieve aansl (NRM)</th>\n",
              "      <th>type_conn_perc</th>\n",
              "      <th>type_of_connection</th>\n",
              "      <th>annual_consume</th>\n",
              "      <th>annual_consume_lowtarif_perc</th>\n",
              "      <th>smartmeter_perc</th>\n",
              "      <th>Year</th>\n",
              "    </tr>\n",
              "  </thead>\n",
              "  <tbody>\n",
              "    <tr>\n",
              "      <th>0</th>\n",
              "      <td>westland-infra</td>\n",
              "      <td>871718518003006694</td>\n",
              "      <td>OOSTEINDE</td>\n",
              "      <td>2291AA</td>\n",
              "      <td>2291AE</td>\n",
              "      <td>WATERINGEN</td>\n",
              "      <td>28</td>\n",
              "      <td>100.0</td>\n",
              "      <td>100.0</td>\n",
              "      <td>100</td>\n",
              "      <td>79</td>\n",
              "      <td>G4</td>\n",
              "      <td>2382</td>\n",
              "      <td>0.0</td>\n",
              "      <td>17.86</td>\n",
              "      <td>2015</td>\n",
              "    </tr>\n",
              "    <tr>\n",
              "      <th>1</th>\n",
              "      <td>westland-infra</td>\n",
              "      <td>871718518003006694</td>\n",
              "      <td>WATERPARK</td>\n",
              "      <td>2291AK</td>\n",
              "      <td>2291AK</td>\n",
              "      <td>WATERINGEN</td>\n",
              "      <td>38</td>\n",
              "      <td>100.0</td>\n",
              "      <td>100.0</td>\n",
              "      <td>100</td>\n",
              "      <td>100</td>\n",
              "      <td>G4</td>\n",
              "      <td>1731</td>\n",
              "      <td>0.0</td>\n",
              "      <td>7.89</td>\n",
              "      <td>2015</td>\n",
              "    </tr>\n",
              "    <tr>\n",
              "      <th>2</th>\n",
              "      <td>westland-infra</td>\n",
              "      <td>871718518003006694</td>\n",
              "      <td>AZALEAPARK</td>\n",
              "      <td>2291AL</td>\n",
              "      <td>2291AL</td>\n",
              "      <td>WATERINGEN</td>\n",
              "      <td>28</td>\n",
              "      <td>100.0</td>\n",
              "      <td>100.0</td>\n",
              "      <td>100</td>\n",
              "      <td>100</td>\n",
              "      <td>G4</td>\n",
              "      <td>748</td>\n",
              "      <td>0.0</td>\n",
              "      <td>0.00</td>\n",
              "      <td>2015</td>\n",
              "    </tr>\n",
              "    <tr>\n",
              "      <th>3</th>\n",
              "      <td>westland-infra</td>\n",
              "      <td>871718518003006694</td>\n",
              "      <td>DRUIVENLAAN</td>\n",
              "      <td>2291AN</td>\n",
              "      <td>2291AT</td>\n",
              "      <td>WATERINGEN</td>\n",
              "      <td>22</td>\n",
              "      <td>100.0</td>\n",
              "      <td>100.0</td>\n",
              "      <td>100</td>\n",
              "      <td>73</td>\n",
              "      <td>G4</td>\n",
              "      <td>2311</td>\n",
              "      <td>0.0</td>\n",
              "      <td>0.00</td>\n",
              "      <td>2015</td>\n",
              "    </tr>\n",
              "    <tr>\n",
              "      <th>4</th>\n",
              "      <td>westland-infra</td>\n",
              "      <td>871718518003006694</td>\n",
              "      <td>KWAKLAAN</td>\n",
              "      <td>2291AV</td>\n",
              "      <td>2291AV</td>\n",
              "      <td>WATERINGEN</td>\n",
              "      <td>15</td>\n",
              "      <td>100.0</td>\n",
              "      <td>100.0</td>\n",
              "      <td>100</td>\n",
              "      <td>93</td>\n",
              "      <td>G4</td>\n",
              "      <td>1357</td>\n",
              "      <td>0.0</td>\n",
              "      <td>6.67</td>\n",
              "      <td>2015</td>\n",
              "    </tr>\n",
              "    <tr>\n",
              "      <th>...</th>\n",
              "      <td>...</td>\n",
              "      <td>...</td>\n",
              "      <td>...</td>\n",
              "      <td>...</td>\n",
              "      <td>...</td>\n",
              "      <td>...</td>\n",
              "      <td>...</td>\n",
              "      <td>...</td>\n",
              "      <td>...</td>\n",
              "      <td>...</td>\n",
              "      <td>...</td>\n",
              "      <td>...</td>\n",
              "      <td>...</td>\n",
              "      <td>...</td>\n",
              "      <td>...</td>\n",
              "      <td>...</td>\n",
              "    </tr>\n",
              "    <tr>\n",
              "      <th>2301</th>\n",
              "      <td>westland-infra</td>\n",
              "      <td>871718518003006694</td>\n",
              "      <td>IN DE BALIJE</td>\n",
              "      <td>3155XA</td>\n",
              "      <td>3155XA</td>\n",
              "      <td>MAASLAND</td>\n",
              "      <td>14</td>\n",
              "      <td>100.0</td>\n",
              "      <td>100.0</td>\n",
              "      <td>100</td>\n",
              "      <td>64</td>\n",
              "      <td>G4</td>\n",
              "      <td>3176</td>\n",
              "      <td>0.0</td>\n",
              "      <td>0.00</td>\n",
              "      <td>2014</td>\n",
              "    </tr>\n",
              "    <tr>\n",
              "      <th>2302</th>\n",
              "      <td>westland-infra</td>\n",
              "      <td>871718518003006694</td>\n",
              "      <td>KONINGIN JULIANAWEG</td>\n",
              "      <td>3155XB</td>\n",
              "      <td>3155XB</td>\n",
              "      <td>MAASLAND</td>\n",
              "      <td>13</td>\n",
              "      <td>100.0</td>\n",
              "      <td>100.0</td>\n",
              "      <td>100</td>\n",
              "      <td>77</td>\n",
              "      <td>G4</td>\n",
              "      <td>3473</td>\n",
              "      <td>0.0</td>\n",
              "      <td>0.00</td>\n",
              "      <td>2014</td>\n",
              "    </tr>\n",
              "    <tr>\n",
              "      <th>2303</th>\n",
              "      <td>westland-infra</td>\n",
              "      <td>871718518003006694</td>\n",
              "      <td>KONINGIN JULIANAWEG</td>\n",
              "      <td>3155XC</td>\n",
              "      <td>3155XD</td>\n",
              "      <td>MAASLAND</td>\n",
              "      <td>27</td>\n",
              "      <td>100.0</td>\n",
              "      <td>100.0</td>\n",
              "      <td>100</td>\n",
              "      <td>85</td>\n",
              "      <td>G4</td>\n",
              "      <td>2791</td>\n",
              "      <td>0.0</td>\n",
              "      <td>3.70</td>\n",
              "      <td>2014</td>\n",
              "    </tr>\n",
              "    <tr>\n",
              "      <th>2304</th>\n",
              "      <td>westland-infra</td>\n",
              "      <td>871718518003006694</td>\n",
              "      <td>KONINGIN JULIANAWEG</td>\n",
              "      <td>3155XE</td>\n",
              "      <td>3155XH</td>\n",
              "      <td>MAASLAND</td>\n",
              "      <td>28</td>\n",
              "      <td>100.0</td>\n",
              "      <td>100.0</td>\n",
              "      <td>100</td>\n",
              "      <td>71</td>\n",
              "      <td>G4</td>\n",
              "      <td>2169</td>\n",
              "      <td>0.0</td>\n",
              "      <td>0.00</td>\n",
              "      <td>2014</td>\n",
              "    </tr>\n",
              "    <tr>\n",
              "      <th>2305</th>\n",
              "      <td>westland-infra</td>\n",
              "      <td>871718518003006694</td>\n",
              "      <td>MERESTEIJN</td>\n",
              "      <td>3155XJ</td>\n",
              "      <td>3155XK</td>\n",
              "      <td>MAASLAND</td>\n",
              "      <td>19</td>\n",
              "      <td>100.0</td>\n",
              "      <td>100.0</td>\n",
              "      <td>100</td>\n",
              "      <td>95</td>\n",
              "      <td>G4</td>\n",
              "      <td>3300</td>\n",
              "      <td>0.0</td>\n",
              "      <td>0.00</td>\n",
              "      <td>2014</td>\n",
              "    </tr>\n",
              "  </tbody>\n",
              "</table>\n",
              "<p>13927 rows × 16 columns</p>\n",
              "</div>"
            ],
            "text/plain": [
              "         net_manager       purchase_area  ... smartmeter_perc  Year\n",
              "0     westland-infra  871718518003006694  ...           17.86  2015\n",
              "1     westland-infra  871718518003006694  ...            7.89  2015\n",
              "2     westland-infra  871718518003006694  ...            0.00  2015\n",
              "3     westland-infra  871718518003006694  ...            0.00  2015\n",
              "4     westland-infra  871718518003006694  ...            6.67  2015\n",
              "...              ...                 ...  ...             ...   ...\n",
              "2301  westland-infra  871718518003006694  ...            0.00  2014\n",
              "2302  westland-infra  871718518003006694  ...            0.00  2014\n",
              "2303  westland-infra  871718518003006694  ...            3.70  2014\n",
              "2304  westland-infra  871718518003006694  ...            0.00  2014\n",
              "2305  westland-infra  871718518003006694  ...            0.00  2014\n",
              "\n",
              "[13927 rows x 16 columns]"
            ]
          },
          "metadata": {
            "tags": []
          },
          "execution_count": 4
        }
      ]
    },
    {
      "cell_type": "markdown",
      "metadata": {
        "id": "wCujrTc6t3Qu",
        "colab_type": "text"
      },
      "source": [
        "# **Exploratory Data Analysis and Data Preprocessing**"
      ]
    },
    {
      "cell_type": "code",
      "metadata": {
        "id": "nJkE9ZzVcMk0",
        "colab_type": "code",
        "colab": {
          "base_uri": "https://localhost:8080/",
          "height": 386
        },
        "outputId": "93c1f9f5-012a-4a83-81fd-41283e66078d"
      },
      "source": [
        "coteq.info()"
      ],
      "execution_count": 5,
      "outputs": [
        {
          "output_type": "stream",
          "text": [
            "<class 'pandas.core.frame.DataFrame'>\n",
            "Int64Index: 40738 entries, 0 to 6773\n",
            "Data columns (total 15 columns):\n",
            " #   Column                        Non-Null Count  Dtype  \n",
            "---  ------                        --------------  -----  \n",
            " 0   net_manager                   40738 non-null  object \n",
            " 1   purchase_area                 40738 non-null  object \n",
            " 2   street                        40738 non-null  object \n",
            " 3   zipcode_from                  40738 non-null  object \n",
            " 4   zipcode_to                    40738 non-null  object \n",
            " 5   city                          40738 non-null  object \n",
            " 6   num_connections               40738 non-null  int64  \n",
            " 7   delivery_perc                 40738 non-null  float64\n",
            " 8   perc_of_active_connections    40738 non-null  float64\n",
            " 9   type_conn_perc                40738 non-null  int64  \n",
            " 10  type_of_connection            40738 non-null  object \n",
            " 11  annual_consume                40738 non-null  int64  \n",
            " 12  annual_consume_lowtarif_perc  40738 non-null  float64\n",
            " 13  smartmeter_perc               40738 non-null  float64\n",
            " 14  Year                          40738 non-null  object \n",
            "dtypes: float64(4), int64(3), object(8)\n",
            "memory usage: 5.0+ MB\n"
          ],
          "name": "stdout"
        }
      ]
    },
    {
      "cell_type": "code",
      "metadata": {
        "id": "dzyvYuWQo7wk",
        "colab_type": "code",
        "colab": {
          "base_uri": "https://localhost:8080/",
          "height": 353
        },
        "outputId": "7a277a56-f530-450e-c95a-ffa32c99ee1e"
      },
      "source": [
        "rendo.info()"
      ],
      "execution_count": 6,
      "outputs": [
        {
          "output_type": "stream",
          "text": [
            "<class 'pandas.core.frame.DataFrame'>\n",
            "Int64Index: 29934 entries, 0 to 4963\n",
            "Data columns (total 13 columns):\n",
            " #   Column                      Non-Null Count  Dtype  \n",
            "---  ------                      --------------  -----  \n",
            " 0   net_manager                 29934 non-null  int64  \n",
            " 1   purchase_area               29934 non-null  int64  \n",
            " 2   street                      29934 non-null  object \n",
            " 3   zipcode_from                29934 non-null  object \n",
            " 4   zipcode_to                  29934 non-null  object \n",
            " 5   city                        29934 non-null  object \n",
            " 6   num_connections             29928 non-null  float64\n",
            " 7   delivery_perc               24917 non-null  float64\n",
            " 8   perc_of_active_connections  24917 non-null  float64\n",
            " 9   type_conn_perc              29928 non-null  float64\n",
            " 10  type_of_connection          29928 non-null  object \n",
            " 11  annual_consume              29934 non-null  int64  \n",
            " 12  Year                        29934 non-null  object \n",
            "dtypes: float64(4), int64(3), object(6)\n",
            "memory usage: 3.2+ MB\n"
          ],
          "name": "stdout"
        }
      ]
    },
    {
      "cell_type": "code",
      "metadata": {
        "id": "2EwaMb9it0Zu",
        "colab_type": "code",
        "colab": {
          "base_uri": "https://localhost:8080/",
          "height": 403
        },
        "outputId": "a4edc8dc-80b3-49b2-df4c-ef9bf2ea06a6"
      },
      "source": [
        "westland.info()"
      ],
      "execution_count": 7,
      "outputs": [
        {
          "output_type": "stream",
          "text": [
            "<class 'pandas.core.frame.DataFrame'>\n",
            "Int64Index: 13927 entries, 0 to 2305\n",
            "Data columns (total 16 columns):\n",
            " #   Column                        Non-Null Count  Dtype  \n",
            "---  ------                        --------------  -----  \n",
            " 0   net_manager                   13927 non-null  object \n",
            " 1   purchase_area                 13927 non-null  int64  \n",
            " 2   street                        13927 non-null  object \n",
            " 3   zipcode_from                  13927 non-null  object \n",
            " 4   zipcode_to                    13927 non-null  object \n",
            " 5   city                          13927 non-null  object \n",
            " 6   num_connections               13927 non-null  int64  \n",
            " 7   delivery_perc                 13927 non-null  float64\n",
            " 8   perc_of_active_connections    13927 non-null  float64\n",
            " 9   %Defintieve aansl (NRM)       13927 non-null  int64  \n",
            " 10  type_conn_perc                13927 non-null  int64  \n",
            " 11  type_of_connection            13927 non-null  object \n",
            " 12  annual_consume                13927 non-null  int64  \n",
            " 13  annual_consume_lowtarif_perc  13927 non-null  float64\n",
            " 14  smartmeter_perc               13927 non-null  float64\n",
            " 15  Year                          13927 non-null  object \n",
            "dtypes: float64(4), int64(5), object(7)\n",
            "memory usage: 1.8+ MB\n"
          ],
          "name": "stdout"
        }
      ]
    },
    {
      "cell_type": "code",
      "metadata": {
        "id": "V565oOSpVlCm",
        "colab_type": "code",
        "colab": {}
      },
      "source": [
        "coteq=coteq.drop(['annual_consume_lowtarif_perc','smartmeter_perc'], axis=1)\n",
        "westland=westland.drop(['annual_consume_lowtarif_perc','smartmeter_perc','%Defintieve aansl (NRM)'], axis=1)"
      ],
      "execution_count": 8,
      "outputs": []
    },
    {
      "cell_type": "code",
      "metadata": {
        "id": "VelOsDXXuBwh",
        "colab_type": "code",
        "colab": {
          "base_uri": "https://localhost:8080/",
          "height": 252
        },
        "outputId": "95ab4a67-a17d-42fc-9089-d5afbce9dc18"
      },
      "source": [
        "coteq.isnull().any()"
      ],
      "execution_count": 9,
      "outputs": [
        {
          "output_type": "execute_result",
          "data": {
            "text/plain": [
              "net_manager                   False\n",
              "purchase_area                 False\n",
              "street                        False\n",
              "zipcode_from                  False\n",
              "zipcode_to                    False\n",
              "city                          False\n",
              "num_connections               False\n",
              "delivery_perc                 False\n",
              "perc_of_active_connections    False\n",
              "type_conn_perc                False\n",
              "type_of_connection            False\n",
              "annual_consume                False\n",
              "Year                          False\n",
              "dtype: bool"
            ]
          },
          "metadata": {
            "tags": []
          },
          "execution_count": 9
        }
      ]
    },
    {
      "cell_type": "code",
      "metadata": {
        "id": "nywsZlZifW0D",
        "colab_type": "code",
        "colab": {
          "base_uri": "https://localhost:8080/",
          "height": 252
        },
        "outputId": "6f361e59-62cc-47a9-dd68-dad3fad2ec61"
      },
      "source": [
        "rendo.isnull().any()"
      ],
      "execution_count": 10,
      "outputs": [
        {
          "output_type": "execute_result",
          "data": {
            "text/plain": [
              "net_manager                   False\n",
              "purchase_area                 False\n",
              "street                        False\n",
              "zipcode_from                  False\n",
              "zipcode_to                    False\n",
              "city                          False\n",
              "num_connections                True\n",
              "delivery_perc                  True\n",
              "perc_of_active_connections     True\n",
              "type_conn_perc                 True\n",
              "type_of_connection             True\n",
              "annual_consume                False\n",
              "Year                          False\n",
              "dtype: bool"
            ]
          },
          "metadata": {
            "tags": []
          },
          "execution_count": 10
        }
      ]
    },
    {
      "cell_type": "code",
      "metadata": {
        "id": "Nm04EU9zIp5y",
        "colab_type": "code",
        "colab": {
          "base_uri": "https://localhost:8080/",
          "height": 252
        },
        "outputId": "6fe5b1b2-2076-4088-afb4-3e4a28fd1bfe"
      },
      "source": [
        "rendo.isnull().sum()"
      ],
      "execution_count": 11,
      "outputs": [
        {
          "output_type": "execute_result",
          "data": {
            "text/plain": [
              "net_manager                      0\n",
              "purchase_area                    0\n",
              "street                           0\n",
              "zipcode_from                     0\n",
              "zipcode_to                       0\n",
              "city                             0\n",
              "num_connections                  6\n",
              "delivery_perc                 5017\n",
              "perc_of_active_connections    5017\n",
              "type_conn_perc                   6\n",
              "type_of_connection               6\n",
              "annual_consume                   0\n",
              "Year                             0\n",
              "dtype: int64"
            ]
          },
          "metadata": {
            "tags": []
          },
          "execution_count": 11
        }
      ]
    },
    {
      "cell_type": "code",
      "metadata": {
        "id": "FaJKAv59Jh4w",
        "colab_type": "code",
        "colab": {}
      },
      "source": [
        "rendo = rendo.dropna()"
      ],
      "execution_count": 12,
      "outputs": []
    },
    {
      "cell_type": "code",
      "metadata": {
        "id": "2dVSbPijuC0H",
        "colab_type": "code",
        "colab": {
          "base_uri": "https://localhost:8080/",
          "height": 252
        },
        "outputId": "5ed777ad-0a37-4733-b84b-48f95c41249e"
      },
      "source": [
        "westland.isnull().any()"
      ],
      "execution_count": 13,
      "outputs": [
        {
          "output_type": "execute_result",
          "data": {
            "text/plain": [
              "net_manager                   False\n",
              "purchase_area                 False\n",
              "street                        False\n",
              "zipcode_from                  False\n",
              "zipcode_to                    False\n",
              "city                          False\n",
              "num_connections               False\n",
              "delivery_perc                 False\n",
              "perc_of_active_connections    False\n",
              "type_conn_perc                False\n",
              "type_of_connection            False\n",
              "annual_consume                False\n",
              "Year                          False\n",
              "dtype: bool"
            ]
          },
          "metadata": {
            "tags": []
          },
          "execution_count": 13
        }
      ]
    },
    {
      "cell_type": "markdown",
      "metadata": {
        "id": "V9GuYlaHldhZ",
        "colab_type": "text"
      },
      "source": [
        "**Label Encoding**"
      ]
    },
    {
      "cell_type": "code",
      "metadata": {
        "id": "tPJY4LpeOLwr",
        "colab_type": "code",
        "colab": {}
      },
      "source": [
        "le = LabelEncoder()"
      ],
      "execution_count": 14,
      "outputs": []
    },
    {
      "cell_type": "code",
      "metadata": {
        "id": "9jM-siKbuNhX",
        "colab_type": "code",
        "colab": {
          "base_uri": "https://localhost:8080/",
          "height": 420
        },
        "outputId": "2ac09d02-af04-4165-d868-67be20ed3cf8"
      },
      "source": [
        "objList = coteq.select_dtypes(include = \"object\").columns\n",
        "print (objList)\n",
        "for feat in objList:\n",
        "    coteq[feat] = le.fit_transform(coteq[feat].astype(str))\n",
        "print (coteq.info())"
      ],
      "execution_count": 15,
      "outputs": [
        {
          "output_type": "stream",
          "text": [
            "Index(['net_manager', 'purchase_area', 'street', 'zipcode_from', 'zipcode_to',\n",
            "       'city', 'type_of_connection', 'Year'],\n",
            "      dtype='object')\n",
            "<class 'pandas.core.frame.DataFrame'>\n",
            "Int64Index: 40738 entries, 0 to 6773\n",
            "Data columns (total 13 columns):\n",
            " #   Column                      Non-Null Count  Dtype  \n",
            "---  ------                      --------------  -----  \n",
            " 0   net_manager                 40738 non-null  int64  \n",
            " 1   purchase_area               40738 non-null  int64  \n",
            " 2   street                      40738 non-null  int64  \n",
            " 3   zipcode_from                40738 non-null  int64  \n",
            " 4   zipcode_to                  40738 non-null  int64  \n",
            " 5   city                        40738 non-null  int64  \n",
            " 6   num_connections             40738 non-null  int64  \n",
            " 7   delivery_perc               40738 non-null  float64\n",
            " 8   perc_of_active_connections  40738 non-null  float64\n",
            " 9   type_conn_perc              40738 non-null  int64  \n",
            " 10  type_of_connection          40738 non-null  int64  \n",
            " 11  annual_consume              40738 non-null  int64  \n",
            " 12  Year                        40738 non-null  int64  \n",
            "dtypes: float64(2), int64(11)\n",
            "memory usage: 4.4 MB\n",
            "None\n"
          ],
          "name": "stdout"
        }
      ]
    },
    {
      "cell_type": "code",
      "metadata": {
        "id": "bBIwjj4alXuz",
        "colab_type": "code",
        "colab": {
          "base_uri": "https://localhost:8080/",
          "height": 521
        },
        "outputId": "c3d5ef10-4821-419d-9f4d-6147af434e6a"
      },
      "source": [
        "# Converting categorical values to numeric and saving into new dataframe and hence removing the old to clean memory\n",
        "objList = rendo.select_dtypes(include = \"object\").columns\n",
        "print (objList)\n",
        "for feat in objList:\n",
        "    rendo[feat] = le.fit_transform(rendo[feat].astype(str))\n",
        "\n",
        "print (rendo.info())\n"
      ],
      "execution_count": 16,
      "outputs": [
        {
          "output_type": "stream",
          "text": [
            "Index(['street', 'zipcode_from', 'zipcode_to', 'city', 'type_of_connection',\n",
            "       'Year'],\n",
            "      dtype='object')\n",
            "<class 'pandas.core.frame.DataFrame'>\n",
            "Int64Index: 24911 entries, 0 to 4962\n",
            "Data columns (total 13 columns):\n",
            " #   Column                      Non-Null Count  Dtype  \n",
            "---  ------                      --------------  -----  \n",
            " 0   net_manager                 24911 non-null  int64  \n",
            " 1   purchase_area               24911 non-null  int64  \n",
            " 2   street                      24911 non-null  int64  \n",
            " 3   zipcode_from                24911 non-null  int64  \n",
            " 4   zipcode_to                  24911 non-null  int64  \n",
            " 5   city                        24911 non-null  int64  \n",
            " 6   num_connections             24911 non-null  float64\n",
            " 7   delivery_perc               24911 non-null  float64\n",
            " 8   perc_of_active_connections  24911 non-null  float64\n",
            " 9   type_conn_perc              24911 non-null  float64\n",
            " 10  type_of_connection          24911 non-null  int64  \n",
            " 11  annual_consume              24911 non-null  int64  \n",
            " 12  Year                        24911 non-null  int64  \n",
            "dtypes: float64(4), int64(9)\n",
            "memory usage: 2.7 MB\n",
            "None\n"
          ],
          "name": "stdout"
        },
        {
          "output_type": "stream",
          "text": [
            "/usr/local/lib/python3.6/dist-packages/ipykernel_launcher.py:5: SettingWithCopyWarning: \n",
            "A value is trying to be set on a copy of a slice from a DataFrame.\n",
            "Try using .loc[row_indexer,col_indexer] = value instead\n",
            "\n",
            "See the caveats in the documentation: https://pandas.pydata.org/pandas-docs/stable/user_guide/indexing.html#returning-a-view-versus-a-copy\n",
            "  \"\"\"\n"
          ],
          "name": "stderr"
        }
      ]
    },
    {
      "cell_type": "code",
      "metadata": {
        "id": "PSEKx7LiuNyA",
        "colab_type": "code",
        "colab": {
          "base_uri": "https://localhost:8080/",
          "height": 420
        },
        "outputId": "35876f7d-3a7f-42de-e04a-dff1e09c98b9"
      },
      "source": [
        "# Converting categorical values to numeric and saving into new dataframe and hence removing the old to clean memory\n",
        "objList = westland.select_dtypes(include = \"object\").columns\n",
        "print (objList)\n",
        "for feat in objList:\n",
        "    westland[feat] = le.fit_transform(westland[feat].astype(str))\n",
        "\n",
        "print (westland.info())\n"
      ],
      "execution_count": 17,
      "outputs": [
        {
          "output_type": "stream",
          "text": [
            "Index(['net_manager', 'street', 'zipcode_from', 'zipcode_to', 'city',\n",
            "       'type_of_connection', 'Year'],\n",
            "      dtype='object')\n",
            "<class 'pandas.core.frame.DataFrame'>\n",
            "Int64Index: 13927 entries, 0 to 2305\n",
            "Data columns (total 13 columns):\n",
            " #   Column                      Non-Null Count  Dtype  \n",
            "---  ------                      --------------  -----  \n",
            " 0   net_manager                 13927 non-null  int64  \n",
            " 1   purchase_area               13927 non-null  int64  \n",
            " 2   street                      13927 non-null  int64  \n",
            " 3   zipcode_from                13927 non-null  int64  \n",
            " 4   zipcode_to                  13927 non-null  int64  \n",
            " 5   city                        13927 non-null  int64  \n",
            " 6   num_connections             13927 non-null  int64  \n",
            " 7   delivery_perc               13927 non-null  float64\n",
            " 8   perc_of_active_connections  13927 non-null  float64\n",
            " 9   type_conn_perc              13927 non-null  int64  \n",
            " 10  type_of_connection          13927 non-null  int64  \n",
            " 11  annual_consume              13927 non-null  int64  \n",
            " 12  Year                        13927 non-null  int64  \n",
            "dtypes: float64(2), int64(11)\n",
            "memory usage: 1.5 MB\n",
            "None\n"
          ],
          "name": "stdout"
        }
      ]
    },
    {
      "cell_type": "markdown",
      "metadata": {
        "id": "F3XYOU-4muim",
        "colab_type": "text"
      },
      "source": [
        "**Data Preparation**"
      ]
    },
    {
      "cell_type": "code",
      "metadata": {
        "id": "54gONJwt6iTe",
        "colab_type": "code",
        "colab": {}
      },
      "source": [
        "trainX = coteq.drop(['perc_of_active_connections'],axis=1)\n",
        "trainY = coteq['perc_of_active_connections']\n",
        "testX= rendo.drop(['perc_of_active_connections'],axis=1)\n",
        "testY = rendo['perc_of_active_connections']\n",
        "validX = westland.drop(['perc_of_active_connections'],axis=1)\n",
        "validY = westland['perc_of_active_connections']"
      ],
      "execution_count": 18,
      "outputs": []
    },
    {
      "cell_type": "markdown",
      "metadata": {
        "id": "zU1t0BjgmaXh",
        "colab_type": "text"
      },
      "source": [
        "**Data Normalization**"
      ]
    },
    {
      "cell_type": "code",
      "metadata": {
        "id": "M5vtRjSCnEg4",
        "colab_type": "code",
        "colab": {}
      },
      "source": [
        "# normalize the dataset\n",
        "scaler = MinMaxScaler(feature_range=(0, 1))\n",
        "trainX = scaler.fit_transform(trainX)\n",
        "testX = scaler.fit_transform(testX)\n",
        "validX = scaler.fit_transform(validX)"
      ],
      "execution_count": 19,
      "outputs": []
    },
    {
      "cell_type": "markdown",
      "metadata": {
        "id": "zxg8rmzeKxP_",
        "colab_type": "text"
      },
      "source": [
        "## **LSTM**"
      ]
    },
    {
      "cell_type": "code",
      "metadata": {
        "id": "RcLMziEqlahf",
        "colab_type": "code",
        "colab": {}
      },
      "source": [
        "# Initializing parameters\n",
        "input_dim = 12\n",
        "timesteps = 1"
      ],
      "execution_count": 20,
      "outputs": []
    },
    {
      "cell_type": "code",
      "metadata": {
        "id": "9wKtBUR5LMK3",
        "colab_type": "code",
        "colab": {}
      },
      "source": [
        "# reshape input to be [samples, time steps, features]\n",
        "trainX = np.reshape(trainX, (len(trainX), timesteps, len(trainX[0])))\n",
        "testX = np.reshape(testX, (len(testX), timesteps, len(testX[0])))\n",
        "validX = np.reshape(validX, (len(validX), timesteps, len(validX[0])))"
      ],
      "execution_count": 21,
      "outputs": []
    },
    {
      "cell_type": "code",
      "metadata": {
        "id": "Sz9IJKf4Ls04",
        "colab_type": "code",
        "colab": {
          "base_uri": "https://localhost:8080/",
          "height": 252
        },
        "outputId": "8dcebd36-cc47-49e0-db7e-0699d87738be"
      },
      "source": [
        "# Initiliazing the sequential model\n",
        "model = Sequential()\n",
        "# Configuring the parameters\n",
        "model.add(LSTM(32,input_shape=(1,12)))\n",
        "# Adding a dropout layer\n",
        "model.add(Dropout(.5))\n",
        "# Adding a dense output layer with sigmoid activation\n",
        "model.add(Dense(units = 1, activation='sigmoid'))\n",
        "model.summary()"
      ],
      "execution_count": 22,
      "outputs": [
        {
          "output_type": "stream",
          "text": [
            "Model: \"sequential\"\n",
            "_________________________________________________________________\n",
            "Layer (type)                 Output Shape              Param #   \n",
            "=================================================================\n",
            "lstm (LSTM)                  (None, 32)                5760      \n",
            "_________________________________________________________________\n",
            "dropout (Dropout)            (None, 32)                0         \n",
            "_________________________________________________________________\n",
            "dense (Dense)                (None, 1)                 33        \n",
            "=================================================================\n",
            "Total params: 5,793\n",
            "Trainable params: 5,793\n",
            "Non-trainable params: 0\n",
            "_________________________________________________________________\n"
          ],
          "name": "stdout"
        }
      ]
    },
    {
      "cell_type": "code",
      "metadata": {
        "id": "vdAoOXM7LwCD",
        "colab_type": "code",
        "colab": {}
      },
      "source": [
        "# Compiling the model\n",
        "model.compile(loss='categorical_crossentropy', optimizer='adam')"
      ],
      "execution_count": 23,
      "outputs": []
    },
    {
      "cell_type": "code",
      "metadata": {
        "id": "npijVw2buf_1",
        "colab_type": "code",
        "colab": {
          "base_uri": "https://localhost:8080/",
          "height": 370
        },
        "outputId": "00b51623-962b-432f-b446-44f8a4cb46b0"
      },
      "source": [
        "# Training the model\n",
        "model.fit(trainX, trainY,batch_size=50,epochs=10)"
      ],
      "execution_count": 24,
      "outputs": [
        {
          "output_type": "stream",
          "text": [
            "Epoch 1/10\n",
            "815/815 [==============================] - 2s 2ms/step - loss: 1.1766e-05\n",
            "Epoch 2/10\n",
            "815/815 [==============================] - 2s 2ms/step - loss: 1.1766e-05\n",
            "Epoch 3/10\n",
            "815/815 [==============================] - 1s 2ms/step - loss: 1.1766e-05\n",
            "Epoch 4/10\n",
            "815/815 [==============================] - 1s 2ms/step - loss: 1.1766e-05\n",
            "Epoch 5/10\n",
            "815/815 [==============================] - 1s 2ms/step - loss: 1.1766e-05\n",
            "Epoch 6/10\n",
            "815/815 [==============================] - 1s 2ms/step - loss: 1.1766e-05\n",
            "Epoch 7/10\n",
            "815/815 [==============================] - 1s 2ms/step - loss: 1.1766e-05\n",
            "Epoch 8/10\n",
            "815/815 [==============================] - 1s 2ms/step - loss: 1.1766e-05\n",
            "Epoch 9/10\n",
            "815/815 [==============================] - 1s 2ms/step - loss: 1.1766e-05\n",
            "Epoch 10/10\n",
            "815/815 [==============================] - 2s 2ms/step - loss: 1.1766e-05\n"
          ],
          "name": "stdout"
        },
        {
          "output_type": "execute_result",
          "data": {
            "text/plain": [
              "<tensorflow.python.keras.callbacks.History at 0x7f2e6bcb2cf8>"
            ]
          },
          "metadata": {
            "tags": []
          },
          "execution_count": 24
        }
      ]
    },
    {
      "cell_type": "code",
      "metadata": {
        "id": "tXqXUBSA5cOx",
        "colab_type": "code",
        "colab": {}
      },
      "source": [
        "# make predictions\n",
        "trainPred = model.predict(trainX)\n",
        "testPred = model.predict(testX)\n",
        "validPred = model.predict(validX)"
      ],
      "execution_count": 25,
      "outputs": []
    },
    {
      "cell_type": "code",
      "metadata": {
        "id": "Y82PopZS4IFf",
        "colab_type": "code",
        "colab": {
          "base_uri": "https://localhost:8080/",
          "height": 67
        },
        "outputId": "b01cd838-38cf-4072-8b2e-c7b3475ab6b4"
      },
      "source": [
        "# calculate root mean absolute percentage error\n",
        "trainMAPE = (mean_absolute_error(trainY, trainPred))/100\n",
        "print('Train Score: %.2f MAPE' % (trainMAPE))\n",
        "testMAPE =(mean_absolute_error(testY, testPred))/100\n",
        "print('Test Score: %.2f MAPE' % (testMAPE))\n",
        "valMAPE = (mean_absolute_error(validY, validPred))/100\n",
        "print('Test Score: %.2f MAPE' % (valMAPE))"
      ],
      "execution_count": 26,
      "outputs": [
        {
          "output_type": "stream",
          "text": [
            "Train Score: 0.98 MAPE\n",
            "Test Score: 0.99 MAPE\n",
            "Test Score: 0.99 MAPE\n"
          ],
          "name": "stdout"
        }
      ]
    },
    {
      "cell_type": "markdown",
      "metadata": {
        "id": "b1WIh5b6TUwt",
        "colab_type": "text"
      },
      "source": [
        "## **ARIMA**"
      ]
    },
    {
      "cell_type": "markdown",
      "metadata": {
        "id": "Nh3kryBdhhDq",
        "colab_type": "text"
      },
      "source": [
        "Rendo"
      ]
    },
    {
      "cell_type": "code",
      "metadata": {
        "id": "AZrtggfMT0lW",
        "colab_type": "code",
        "colab": {
          "base_uri": "https://localhost:8080/",
          "height": 729
        },
        "outputId": "5ff43c30-baec-47e6-99b3-28b8d6aea9dd"
      },
      "source": [
        "from statsmodels.graphics.tsaplots import plot_acf, plot_pacf\n",
        "plt.rcParams.update({'figure.figsize':(9,7), 'figure.dpi':120})\n",
        "rendo=rendo['perc_of_active_connections']\n",
        "# # Original Series\n",
        "fig, axes = plt.subplots(3, 2, sharex=True)\n",
        "axes[0, 0].plot(rendo); axes[0, 0].set_title('Original Series')\n",
        "plot_acf(rendo, ax=axes[0, 1])\n",
        "\n",
        "# 1st Differencing\n",
        "axes[1, 0].plot(rendo.diff()); axes[1, 0].set_title('1st Order Differencing')\n",
        "plot_acf(rendo.diff().dropna(), ax=axes[1, 1])\n",
        "\n",
        "# 2nd Differencing\n",
        "axes[2, 0].plot(rendo.diff().diff()); axes[2, 0].set_title('2nd Order Differencing')\n",
        "plot_acf(rendo.diff().diff().dropna(), ax=axes[2, 1])\n",
        "\n",
        "plt.show()"
      ],
      "execution_count": 27,
      "outputs": [
        {
          "output_type": "display_data",
          "data": {
            "image/png": "[encoded data removed]",
            "text/plain": [
              "<Figure size 1080x840 with 6 Axes>"
            ]
          },
          "metadata": {
            "tags": [],
            "needs_background": "light"
          }
        }
      ]
    },
    {
      "cell_type": "code",
      "metadata": {
        "id": "POUY79k0ZEEI",
        "colab_type": "code",
        "colab": {}
      },
      "source": [
        "# Create Training and Test\n",
        "train = rendo[:24870]\n",
        "test = rendo[24870:]"
      ],
      "execution_count": 28,
      "outputs": []
    },
    {
      "cell_type": "code",
      "metadata": {
        "id": "Dfy8LqxBjUZc",
        "colab_type": "code",
        "colab": {
          "base_uri": "https://localhost:8080/",
          "height": 474
        },
        "outputId": "881702ce-4300-4e91-fdf0-1834fd908c0f"
      },
      "source": [
        "# fit model\n",
        "model = ARIMA(train, order=(1, 1, 1))  \n",
        "fitted = model.fit(disp=-1) \n",
        "print(fitted.summary())"
      ],
      "execution_count": 29,
      "outputs": [
        {
          "output_type": "stream",
          "text": [
            "/usr/local/lib/python3.6/dist-packages/statsmodels/tsa/base/tsa_model.py:215: ValueWarning: An unsupported index was provided and will be ignored when e.g. forecasting.\n",
            "  ' ignored when e.g. forecasting.', ValueWarning)\n",
            "/usr/local/lib/python3.6/dist-packages/statsmodels/tsa/base/tsa_model.py:215: ValueWarning: An unsupported index was provided and will be ignored when e.g. forecasting.\n",
            "  ' ignored when e.g. forecasting.', ValueWarning)\n"
          ],
          "name": "stderr"
        },
        {
          "output_type": "stream",
          "text": [
            "                                  ARIMA Model Results                                   \n",
            "========================================================================================\n",
            "Dep. Variable:     D.perc_of_active_connections   No. Observations:                24869\n",
            "Model:                           ARIMA(1, 1, 1)   Log Likelihood              -68795.627\n",
            "Method:                                 css-mle   S.D. of innovations              3.847\n",
            "Date:                          Thu, 24 Sep 2020   AIC                         137599.255\n",
            "Time:                                  10:50:16   BIC                         137631.740\n",
            "Sample:                                       1   HQIC                        137609.772\n",
            "                                                                                        \n",
            "======================================================================================================\n",
            "                                         coef    std err          z      P>|z|      [0.025      0.975]\n",
            "------------------------------------------------------------------------------------------------------\n",
            "const                               1.983e-05      0.000      0.049      0.961      -0.001       0.001\n",
            "ar.L1.D.perc_of_active_connections     0.1179      0.007     16.059      0.000       0.104       0.132\n",
            "ma.L1.D.perc_of_active_connections    -0.9853      0.003   -290.258      0.000      -0.992      -0.979\n",
            "                                    Roots                                    \n",
            "=============================================================================\n",
            "                  Real          Imaginary           Modulus         Frequency\n",
            "-----------------------------------------------------------------------------\n",
            "AR.1            8.4798           +0.0000j            8.4798            0.0000\n",
            "MA.1            1.0149           +0.0000j            1.0149            0.0000\n",
            "-----------------------------------------------------------------------------\n"
          ],
          "name": "stdout"
        }
      ]
    },
    {
      "cell_type": "code",
      "metadata": {
        "id": "CP7-3pNwoBBh",
        "colab_type": "code",
        "colab": {}
      },
      "source": [
        "# Forecast\n",
        "fc, se, conf = fitted.forecast(41, alpha=0.05)  # 95% conf\n",
        "\n",
        "# Make as pandas series\n",
        "fc_series = pd.Series(fc, index=test.index)\n",
        "lower_series = pd.Series(conf[:, 0], index=test.index)\n",
        "upper_series = pd.Series(conf[:, 1], index=test.index)"
      ],
      "execution_count": 30,
      "outputs": []
    },
    {
      "cell_type": "code",
      "metadata": {
        "id": "4HdzPpy2rZ50",
        "colab_type": "code",
        "colab": {
          "base_uri": "https://localhost:8080/",
          "height": 34
        },
        "outputId": "c3e2b552-9f77-4876-8202-2946e1984c2b"
      },
      "source": [
        "# calculate root mean absolute percentage error\n",
        "mape = (mean_absolute_error(test, conf[:, 1]))/100\n",
        "print('Train Score: %.2f MAPE' % (mape))"
      ],
      "execution_count": 31,
      "outputs": [
        {
          "output_type": "stream",
          "text": [
            "Train Score: 0.08 MAPE\n"
          ],
          "name": "stdout"
        }
      ]
    },
    {
      "cell_type": "code",
      "metadata": {
        "id": "bulN7UvApuT6",
        "colab_type": "code",
        "colab": {
          "base_uri": "https://localhost:8080/",
          "height": 460
        },
        "outputId": "8e0dbc87-d0fb-4c01-f3d0-193d1392012b"
      },
      "source": [
        "# Plot\n",
        "plt.figure(figsize=(12,5), dpi=100)\n",
        "plt.plot(test, label='actual')\n",
        "plt.plot(fc_series, label='forecast')\n",
        "plt.fill_between(lower_series.index, lower_series, upper_series, \n",
        "                 color='k', alpha=.15)\n",
        "plt.title('Forecast vs Actuals')\n",
        "plt.legend(loc='upper left', fontsize=8)\n",
        "plt.show()"
      ],
      "execution_count": 32,
      "outputs": [
        {
          "output_type": "display_data",
          "data": {
            "image/png": "[encoded data removed]",
            "text/plain": [
              "<Figure size 1200x500 with 1 Axes>"
            ]
          },
          "metadata": {
            "tags": [],
            "needs_background": "light"
          }
        }
      ]
    },
    {
      "cell_type": "markdown",
      "metadata": {
        "id": "yVQdMJdDhmBp",
        "colab_type": "text"
      },
      "source": [
        "Coteq"
      ]
    },
    {
      "cell_type": "code",
      "metadata": {
        "colab_type": "code",
        "id": "RHqkxYdNfCGE",
        "colab": {
          "base_uri": "https://localhost:8080/",
          "height": 729
        },
        "outputId": "f5eb8c57-ea53-477d-addf-8b329719cc1c"
      },
      "source": [
        "from statsmodels.graphics.tsaplots import plot_acf, plot_pacf\n",
        "plt.rcParams.update({'figure.figsize':(9,7), 'figure.dpi':120})\n",
        "\n",
        "# # Original Series\n",
        "fig, axes = plt.subplots(3, 2, sharex=True)\n",
        "coteq=coteq['perc_of_active_connections']\n",
        "axes[0, 0].plot(); axes[0, 0].set_title('Original Series')\n",
        "plot_acf(coteq, ax=axes[0, 1])\n",
        "\n",
        "# 1st Differencing\n",
        "axes[1, 0].plot(coteq.diff()); axes[1, 0].set_title('1st Order Differencing')\n",
        "plot_acf(coteq.diff().dropna(), ax=axes[1, 1])\n",
        "\n",
        "# 2nd Differencing\n",
        "axes[2, 0].plot(coteq.diff().diff()); axes[2, 0].set_title('2nd Order Differencing')\n",
        "plot_acf(coteq.diff().diff().dropna(), ax=axes[2, 1])\n",
        "\n",
        "plt.show()"
      ],
      "execution_count": 33,
      "outputs": [
        {
          "output_type": "display_data",
          "data": {
            "image/png": "[encoded data removed]",
            "text/plain": [
              "<Figure size 1080x840 with 6 Axes>"
            ]
          },
          "metadata": {
            "tags": [],
            "needs_background": "light"
          }
        }
      ]
    },
    {
      "cell_type": "code",
      "metadata": {
        "colab_type": "code",
        "id": "NxZsORPFgJ7x",
        "colab": {}
      },
      "source": [
        "# Create Training and Test\n",
        "train = coteq[:40680]\n",
        "test = coteq[40680:]\n",
        "# Forecast\n",
        "fc, se, conf = fitted.forecast(58, alpha=0.05)  # 95% conf\n",
        "\n",
        "# Make as pandas series\n",
        "fc_series = pd.Series(fc, index=test.index)\n",
        "lower_series = pd.Series(conf[:, 0], index=test.index)\n",
        "upper_series = pd.Series(conf[:, 1], index=test.index)"
      ],
      "execution_count": 34,
      "outputs": []
    },
    {
      "cell_type": "code",
      "metadata": {
        "id": "9s2EE1ejrsOs",
        "colab_type": "code",
        "colab": {
          "base_uri": "https://localhost:8080/",
          "height": 34
        },
        "outputId": "69b0e37f-516d-4d71-8f53-34d7041c3199"
      },
      "source": [
        "# calculate root mean absolute percentage error\n",
        "mape = (mean_absolute_error(test, conf[:, 1]))/100\n",
        "print('Train Score: %.2f MAPE' % (mape))"
      ],
      "execution_count": 35,
      "outputs": [
        {
          "output_type": "stream",
          "text": [
            "Train Score: 0.09 MAPE\n"
          ],
          "name": "stdout"
        }
      ]
    },
    {
      "cell_type": "code",
      "metadata": {
        "colab_type": "code",
        "id": "WEWu7xtwgX22",
        "colab": {
          "base_uri": "https://localhost:8080/",
          "height": 460
        },
        "outputId": "674f3a3d-9c9a-4c9a-da7a-3b6043f14ebe"
      },
      "source": [
        "# Plot\n",
        "plt.figure(figsize=(12,5), dpi=100)\n",
        "plt.plot(test, label='actual')\n",
        "plt.plot(fc_series, label='forecast')\n",
        "plt.fill_between(lower_series.index, lower_series, upper_series, \n",
        "                 color='k', alpha=.15)\n",
        "plt.title('Forecast vs Actuals')\n",
        "plt.legend(loc='upper left', fontsize=8)\n",
        "plt.show()"
      ],
      "execution_count": 36,
      "outputs": [
        {
          "output_type": "display_data",
          "data": {
            "image/png": "[encoded data removed]",
            "text/plain": [
              "<Figure size 1200x500 with 1 Axes>"
            ]
          },
          "metadata": {
            "tags": [],
            "needs_background": "light"
          }
        }
      ]
    },
    {
      "cell_type": "markdown",
      "metadata": {
        "id": "tnyj9nzxhoyQ",
        "colab_type": "text"
      },
      "source": [
        "Westland-Infra"
      ]
    },
    {
      "cell_type": "code",
      "metadata": {
        "colab_type": "code",
        "id": "Nqsa10FgfCzy",
        "colab": {
          "base_uri": "https://localhost:8080/",
          "height": 729
        },
        "outputId": "29efd2bd-1128-4c6b-f62b-8ec2c3df7555"
      },
      "source": [
        "from statsmodels.graphics.tsaplots import plot_acf, plot_pacf\n",
        "plt.rcParams.update({'figure.figsize':(9,7), 'figure.dpi':120})\n",
        "westland = westland['perc_of_active_connections']\n",
        "# # Original Series\n",
        "fig, axes = plt.subplots(3, 2, sharex=True)\n",
        "axes[0, 0].plot(westland); axes[0, 0].set_title('Original Series')\n",
        "plot_acf(westland, ax=axes[0, 1])\n",
        "\n",
        "# 1st Differencing\n",
        "axes[1, 0].plot(westland.diff()); axes[1, 0].set_title('1st Order Differencing')\n",
        "plot_acf(westland.diff().dropna(), ax=axes[1, 1])\n",
        "\n",
        "# 2nd Differencing\n",
        "axes[2, 0].plot(westland.diff().diff()); axes[2, 0].set_title('2nd Order Differencing')\n",
        "plot_acf(westland.diff().diff().dropna(), ax=axes[2, 1])\n",
        "\n",
        "plt.show()"
      ],
      "execution_count": 37,
      "outputs": [
        {
          "output_type": "display_data",
          "data": {
            "image/png": "[encoded data removed]",
            "text/plain": [
              "<Figure size 1080x840 with 6 Axes>"
            ]
          },
          "metadata": {
            "tags": [],
            "needs_background": "light"
          }
        }
      ]
    },
    {
      "cell_type": "code",
      "metadata": {
        "colab_type": "code",
        "id": "MgRjaTdAgJO-",
        "colab": {}
      },
      "source": [
        "# Create Training and Test\n",
        "train = westland[:13887]\n",
        "test = westland[13887:]"
      ],
      "execution_count": 38,
      "outputs": []
    },
    {
      "cell_type": "code",
      "metadata": {
        "id": "yTpYBqCwwu2T",
        "colab_type": "code",
        "colab": {}
      },
      "source": [
        "# Forecast\n",
        "fc, se, conf = fitted.forecast(40, alpha=0.05)  # 95% conf\n",
        "\n",
        "# Make as pandas series\n",
        "fc_series = pd.Series(fc, index=test.index)\n",
        "lower_series = pd.Series(conf[:, 0], index=test.index)\n",
        "upper_series = pd.Series(conf[:, 1], index=test.index)"
      ],
      "execution_count": 39,
      "outputs": []
    },
    {
      "cell_type": "code",
      "metadata": {
        "id": "gTzZ7IItruLX",
        "colab_type": "code",
        "colab": {
          "base_uri": "https://localhost:8080/",
          "height": 34
        },
        "outputId": "92e84f4c-c68c-4b76-b0db-cd52ace00ff9"
      },
      "source": [
        "# calculate root mean absolute percentage error\n",
        "mape = (mean_absolute_error(test, conf[:, 1]))/100\n",
        "print('Train Score: %.2f MAPE' % (mape))"
      ],
      "execution_count": 40,
      "outputs": [
        {
          "output_type": "stream",
          "text": [
            "Train Score: 0.07 MAPE\n"
          ],
          "name": "stdout"
        }
      ]
    },
    {
      "cell_type": "code",
      "metadata": {
        "colab_type": "code",
        "id": "ryAQBZlcgZNp",
        "colab": {
          "base_uri": "https://localhost:8080/",
          "height": 460
        },
        "outputId": "486d93a9-8651-4f9f-ed44-27b6eb00f179"
      },
      "source": [
        "# Plot\n",
        "plt.figure(figsize=(12,5), dpi=100)\n",
        "plt.plot(test, label='actual')\n",
        "plt.plot(fc_series, label='forecast')\n",
        "plt.fill_between(lower_series.index, lower_series, upper_series, \n",
        "                 color='k', alpha=.15)\n",
        "plt.title('Forecast vs Actuals')\n",
        "plt.legend(loc='upper left', fontsize=8)\n",
        "plt.show()"
      ],
      "execution_count": 41,
      "outputs": [
        {
          "output_type": "display_data",
          "data": {
            "image/png": "[encoded data removed]",
            "text/plain": [
              "<Figure size 1200x500 with 1 Axes>"
            ]
          },
          "metadata": {
            "tags": [],
            "needs_background": "light"
          }
        }
      ]
    }
  ]
}